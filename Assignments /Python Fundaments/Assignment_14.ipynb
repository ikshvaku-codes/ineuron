{
  "nbformat": 4,
  "nbformat_minor": 0,
  "metadata": {
    "colab": {
      "provenance": [],
      "authorship_tag": "ABX9TyPbDBES6Qb70JJ4qd1yO698"
    },
    "kernelspec": {
      "name": "python3",
      "display_name": "Python 3"
    },
    "language_info": {
      "name": "python"
    }
  },
  "cells": [
    {
      "cell_type": "markdown",
      "source": [
        "1. What does RGBA stand for?\n"
      ],
      "metadata": {
        "id": "ungQLLDeAiFW"
      }
    },
    {
      "cell_type": "markdown",
      "source": [
        "* RGBA Stands for Red, Green, Blue and Alpha"
      ],
      "metadata": {
        "id": "CMJw04zEAjJ1"
      }
    },
    {
      "cell_type": "markdown",
      "source": [
        "2. From the Pillow module, how do you get the RGBA value of any images?\n"
      ],
      "metadata": {
        "id": "yaR7T9YCA5q2"
      }
    },
    {
      "cell_type": "markdown",
      "source": [
        "* To get the RGBA value of an image we use a function ImageColor.getColor(<nameOFImage>, 'RGBA')\n",
        "* This function is part of pillow module."
      ],
      "metadata": {
        "id": "QxomCG6YA6Zj"
      }
    },
    {
      "cell_type": "markdown",
      "source": [
        "3. What is a box tuple, and how does it work?\n"
      ],
      "metadata": {
        "id": "IR1xdREaBYum"
      }
    },
    {
      "cell_type": "markdown",
      "source": [
        "* Box Tuple is a four integer tuple value.\n",
        "* It represents (left edge x-cordinate, top edge y-cordinate, width, height)"
      ],
      "metadata": {
        "id": "n4uFNisKBZmA"
      }
    },
    {
      "cell_type": "markdown",
      "source": [
        "4. Use your image and load in notebook then, How can you find out the width and height of an\n",
        "Image object?"
      ],
      "metadata": {
        "id": "UfSk0ZhgBzo9"
      }
    },
    {
      "cell_type": "code",
      "source": [
        "from PIL import Image\n",
        "imageName = '' #give the name of image with extension here\n",
        "imgObj = Image.open(imageName)\n",
        "imgObj.size"
      ],
      "metadata": {
        "id": "uvyeoEn4B90e"
      },
      "execution_count": null,
      "outputs": []
    },
    {
      "cell_type": "markdown",
      "source": [
        "5. What method would you call to get Image object for a 100×100 image, excluding the lower-left\n",
        "quarter of it?"
      ],
      "metadata": {
        "id": "pzmcB_fqCpYC"
      }
    },
    {
      "cell_type": "code",
      "source": [
        "cropImgObj = imgObj.crop((0,50,50,50))"
      ],
      "metadata": {
        "id": "gjs7fyuRDeOI"
      },
      "execution_count": null,
      "outputs": []
    },
    {
      "cell_type": "markdown",
      "source": [
        "6. After making changes to an Image object, how could you save it as an image file?"
      ],
      "metadata": {
        "id": "f--fbSFPDVcx"
      }
    },
    {
      "cell_type": "code",
      "source": [
        "nameOfNewImage = '' # Enter the name of new image with extension\n",
        "cropImgObj.save(nameOfNewImage)"
      ],
      "metadata": {
        "id": "5O15b4dLDe-_"
      },
      "execution_count": null,
      "outputs": []
    },
    {
      "cell_type": "markdown",
      "source": [
        "7. What module contains Pillow’s shape-drawing code?\n"
      ],
      "metadata": {
        "id": "Zez9lccGD8aZ"
      }
    },
    {
      "cell_type": "markdown",
      "source": [
        "* ImageDraw "
      ],
      "metadata": {
        "id": "RbjrmlelEBsH"
      }
    },
    {
      "cell_type": "markdown",
      "source": [
        "\n",
        "\n",
        "\n",
        "\n",
        "8. Image objects do not have drawing methods. What kind of object does? How do you get this kind\n",
        "of object?"
      ],
      "metadata": {
        "id": "55TDUE5UAfO0"
      }
    },
    {
      "cell_type": "markdown",
      "source": [
        "* Drawing methods are contained in ImageDraw module.\n",
        "* It have methods like point(), line() etc.\n",
        "* ImageDraw.Draw(<ShapeMethod like point()>) is used like this"
      ],
      "metadata": {
        "id": "NHEelX3cEVrd"
      }
    }
  ]
}