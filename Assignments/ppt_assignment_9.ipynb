{
  "nbformat": 4,
  "nbformat_minor": 0,
  "metadata": {
    "colab": {
      "provenance": []
    },
    "kernelspec": {
      "name": "python3",
      "display_name": "Python 3"
    },
    "language_info": {
      "name": "python"
    }
  },
  "cells": [
    {
      "cell_type": "markdown",
      "source": [
        "Given an integer `n`, return *`true` if it is a power of two. Otherwise, return `false`*.\n",
        "\n",
        "An integer `n` is a power of two, if there exists an integer `x` such that `n == 2x`.\n",
        "\n",
        "**Example 1:**\n",
        "Input: n = 1 \n",
        "\n",
        "Output: true\n",
        "\n",
        "**Example 2:**\n",
        "Input: n = 16 \n",
        "\n",
        "Output: true\n",
        "\n",
        "**Example 3:**\n",
        "Input: n = 3 \n",
        "\n",
        "Output: false"
      ],
      "metadata": {
        "id": "Lx5dA83jgoIA"
      }
    },
    {
      "cell_type": "code",
      "execution_count": 1,
      "metadata": {
        "id": "4KJjnfElvsiQ"
      },
      "outputs": [],
      "source": [
        "def checkPowerOf2(n:int())-> int():\n",
        "  if n==2:\n",
        "    return 2\n",
        "  if n < 2:\n",
        "    return -1\n",
        "  return checkPowerOf2(n/2)"
      ]
    },
    {
      "cell_type": "code",
      "source": [
        "if checkPowerOf2(25) == 2:\n",
        "  print(True)\n",
        "else:\n",
        "  print(False)"
      ],
      "metadata": {
        "colab": {
          "base_uri": "https://localhost:8080/"
        },
        "id": "JMHLfMSxhPXE",
        "outputId": "32eaf006-4143-443e-df84-551a8d324638"
      },
      "execution_count": 2,
      "outputs": [
        {
          "output_type": "stream",
          "name": "stdout",
          "text": [
            "False\n"
          ]
        }
      ]
    },
    {
      "cell_type": "markdown",
      "source": [
        "<aside>\n",
        "💡 **Question 2**\n",
        "\n",
        "Given a number n, find the sum of the first natural numbers.\n",
        "\n",
        "**Example 1:**\n",
        "\n",
        "Input: n = 3 \n",
        "\n",
        "Output: 6\n",
        "\n",
        "**Example 2:**\n",
        "\n",
        "Input  : 5 \n",
        "\n",
        "Output : 15\n",
        "\n",
        "</aside>"
      ],
      "metadata": {
        "id": "2_SzJ9hyhcgX"
      }
    },
    {
      "cell_type": "code",
      "source": [
        "def sum(n:int())->int(): \n",
        "  return n+sum(n-1) if n >0 else 0\n",
        "sum(15)"
      ],
      "metadata": {
        "colab": {
          "base_uri": "https://localhost:8080/"
        },
        "id": "LZFVYs6yhjVc",
        "outputId": "6cd30022-bf4d-444d-b1bd-7606625d4861"
      },
      "execution_count": 6,
      "outputs": [
        {
          "output_type": "execute_result",
          "data": {
            "text/plain": [
              "120"
            ]
          },
          "metadata": {},
          "execution_count": 6
        }
      ]
    },
    {
      "cell_type": "markdown",
      "source": [
        "<aside>\n",
        "💡 **Question 3**\n",
        "\n",
        "****Given a positive integer, N. Find the factorial of N. \n",
        "\n",
        "**Example 1:**\n",
        "\n",
        "Input: N = 5 \n",
        "\n",
        "Output: 120\n",
        "\n",
        "**Example 2:**\n",
        "\n",
        "Input: N = 4\n",
        "\n",
        "Output: 24\n",
        "\n",
        "</aside>"
      ],
      "metadata": {
        "id": "lSkJCJNEiV7r"
      }
    },
    {
      "cell_type": "code",
      "source": [
        "def sum(n:int())->int(): \n",
        "  return n*sum(n-1) if n >0 else 1\n",
        "sum(5)"
      ],
      "metadata": {
        "colab": {
          "base_uri": "https://localhost:8080/"
        },
        "id": "vK1A045wiYq-",
        "outputId": "19d1787f-a4a6-454c-c21f-b9a3a1ed8bd4"
      },
      "execution_count": 8,
      "outputs": [
        {
          "output_type": "execute_result",
          "data": {
            "text/plain": [
              "120"
            ]
          },
          "metadata": {},
          "execution_count": 8
        }
      ]
    },
    {
      "cell_type": "markdown",
      "source": [
        "<aside>\n",
        "💡 **Question 4**\n",
        "\n",
        "Given a number N and a power P, the task is to find the exponent of this number raised to the given power, i.e. N^P.\n",
        "\n",
        "**Example 1 :** \n",
        "\n",
        "Input: N = 5, P = 2\n",
        "\n",
        "Output: 25\n",
        "\n",
        "**Example 2 :**\n",
        "Input: N = 2, P = 5\n",
        "\n",
        "Output: 32\n",
        "\n",
        "</aside>"
      ],
      "metadata": {
        "id": "yHOJxjYuif3r"
      }
    },
    {
      "cell_type": "code",
      "source": [
        "def sum(n:int(), p:int())->int(): \n",
        "  return n*sum(n, p-1) if p>0 else 1\n",
        "sum(5, 2)"
      ],
      "metadata": {
        "colab": {
          "base_uri": "https://localhost:8080/"
        },
        "id": "LWBBhNDkijwV",
        "outputId": "beae46c9-c8eb-42d8-de30-3458863eeace"
      },
      "execution_count": 10,
      "outputs": [
        {
          "output_type": "execute_result",
          "data": {
            "text/plain": [
              "25"
            ]
          },
          "metadata": {},
          "execution_count": 10
        }
      ]
    },
    {
      "cell_type": "markdown",
      "source": [
        "<aside>\n",
        "💡 **Question 5**\n",
        "\n",
        "Given an array of integers **arr**, the task is to find maximum element of that array using recursion.\n",
        "\n",
        "**Example 1:**\n",
        "\n",
        "Input: arr = {1, 4, 3, -5, -4, 8, 6};\n",
        "Output: 8\n",
        "\n",
        "**Example 2:**\n",
        "\n",
        "Input: a9rr = {1, 4, 45, 6, 10, -8};\n",
        "Output: 45\n",
        "\n",
        "</aside>"
      ],
      "metadata": {
        "id": "A7QyEoKPhiyD"
      }
    },
    {
      "cell_type": "code",
      "source": [
        "def findMax(arr:list(), curMax: int()) ->int():\n",
        "  if len(arr) ==1:\n",
        "    return curMax if curMax> arr[0] else arr[0]\n",
        "  return curMax if curMax> findMax(arr[1:], curMax) else findMax(arr[1:], curMax)"
      ],
      "metadata": {
        "id": "4wuCH1ogjKX5"
      },
      "execution_count": 21,
      "outputs": []
    },
    {
      "cell_type": "code",
      "source": [
        "findMax([1,2,3,5,1,2,3,252,2,356], 3)"
      ],
      "metadata": {
        "colab": {
          "base_uri": "https://localhost:8080/"
        },
        "id": "sGOwzyrjkagZ",
        "outputId": "1793a837-38b4-41bd-d6d8-d3ad2956c0a3"
      },
      "execution_count": 23,
      "outputs": [
        {
          "output_type": "execute_result",
          "data": {
            "text/plain": [
              "356"
            ]
          },
          "metadata": {},
          "execution_count": 23
        }
      ]
    },
    {
      "cell_type": "markdown",
      "source": [
        "<aside>\n",
        "💡 **Question 6**\n",
        "\n",
        "Given first term (a), common difference (d) and a integer N of the Arithmetic Progression series, the task is to find Nth term of the series.\n",
        "\n",
        "**Example 1:**\n",
        "\n",
        "Input : a = 2 d = 1 N = 5\n",
        "Output : 6\n",
        "The 5th term of the series is : 6\n",
        "\n",
        "**Example 2:**\n",
        "\n",
        "Input : a = 5 d = 2 N = 10\n",
        "Output : 23\n",
        "The 10th term of the series is : 23\n",
        "\n",
        "</aside>"
      ],
      "metadata": {
        "id": "dqW7Dri4nLD7"
      }
    },
    {
      "cell_type": "code",
      "source": [
        "def termOfAp(a: int(), d:int(), n:int()) -> int():\n",
        "  return a+(d*(n-1))"
      ],
      "metadata": {
        "id": "LjsGbiLonOx9"
      },
      "execution_count": 30,
      "outputs": []
    },
    {
      "cell_type": "code",
      "source": [
        "a = 10\n",
        "n = 5\n",
        "d = 3\n",
        "\n",
        "print(termOfAp(a,d,n))"
      ],
      "metadata": {
        "colab": {
          "base_uri": "https://localhost:8080/"
        },
        "id": "ggPwklxmnsNG",
        "outputId": "a02b959b-07fc-435b-c4fd-58b69764a1f5"
      },
      "execution_count": 31,
      "outputs": [
        {
          "output_type": "stream",
          "name": "stdout",
          "text": [
            "22\n"
          ]
        }
      ]
    },
    {
      "cell_type": "markdown",
      "source": [
        "<aside>\n",
        "💡 **Question 7**\n",
        "\n",
        "Given a string S, the task is to write a program to print all permutations of a given string.\n",
        "\n",
        "**Example 1:**\n",
        "\n",
        "***Input:***\n",
        "\n",
        "*S = “ABC”*\n",
        "\n",
        "***Output:***\n",
        "\n",
        "*“ABC”, “ACB”, “BAC”, “BCA”, “CBA”, “CAB”*\n",
        "\n",
        "**Example 2:**\n",
        "\n",
        "***Input:***\n",
        "\n",
        "*S = “XY”*\n",
        "\n",
        "***Output:***\n",
        "\n",
        "*“XY”, “YX”*\n",
        "\n",
        "</aside>"
      ],
      "metadata": {
        "id": "iOk012jMom3u"
      }
    },
    {
      "cell_type": "code",
      "source": [
        "def permute(s):\n",
        "  out = []\n",
        "  if len(s) == 1:\n",
        "    return s\n",
        "  else:\n",
        "    for i,let in enumerate(s):\n",
        "      for perm in permute(s[:i] + s[i+1:]):\n",
        "        out += [let + perm]\n",
        "  return out"
      ],
      "metadata": {
        "id": "3DgjUfdGop3x"
      },
      "execution_count": 32,
      "outputs": []
    },
    {
      "cell_type": "code",
      "source": [
        "permute(['1','2','3','6'])"
      ],
      "metadata": {
        "colab": {
          "base_uri": "https://localhost:8080/"
        },
        "id": "brR-OMBMpDEy",
        "outputId": "7278d7d8-27c9-4475-db6c-411b337ec8d5"
      },
      "execution_count": 34,
      "outputs": [
        {
          "output_type": "execute_result",
          "data": {
            "text/plain": [
              "['1236',\n",
              " '1263',\n",
              " '1326',\n",
              " '1362',\n",
              " '1623',\n",
              " '1632',\n",
              " '2136',\n",
              " '2163',\n",
              " '2316',\n",
              " '2361',\n",
              " '2613',\n",
              " '2631',\n",
              " '3126',\n",
              " '3162',\n",
              " '3216',\n",
              " '3261',\n",
              " '3612',\n",
              " '3621',\n",
              " '6123',\n",
              " '6132',\n",
              " '6213',\n",
              " '6231',\n",
              " '6312',\n",
              " '6321']"
            ]
          },
          "metadata": {},
          "execution_count": 34
        }
      ]
    },
    {
      "cell_type": "markdown",
      "source": [
        "<aside>\n",
        "💡 **Question 8**\n",
        "\n",
        "Given an array, find a product of all array elements.\n",
        "\n",
        "**Example 1:**\n",
        "\n",
        "Input  : arr[] = {1, 2, 3, 4, 5}\n",
        "Output : 120\n",
        "**Example 2:**\n",
        "\n",
        "Input  : arr[] = {1, 6, 3}\n",
        "Output : 18\n",
        "\n",
        "</aside>"
      ],
      "metadata": {
        "id": "FF77RCYxpQhW"
      }
    },
    {
      "cell_type": "code",
      "source": [
        "def prod(arr:list())->int(): \n",
        "  return arr[0] * prod(arr[1:]) if len(arr) >2 else arr[0]*arr[1]\n",
        "prod([1,3,5,4,5])"
      ],
      "metadata": {
        "colab": {
          "base_uri": "https://localhost:8080/"
        },
        "id": "DhR_C7iZpRIV",
        "outputId": "f4fb2ac0-260f-45ef-947e-13005d42692a"
      },
      "execution_count": 38,
      "outputs": [
        {
          "output_type": "execute_result",
          "data": {
            "text/plain": [
              "300"
            ]
          },
          "metadata": {},
          "execution_count": 38
        }
      ]
    },
    {
      "cell_type": "markdown",
      "source": [],
      "metadata": {
        "id": "SiqcUUsxqTlC"
      }
    }
  ]
}