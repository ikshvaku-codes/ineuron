{
  "nbformat": 4,
  "nbformat_minor": 0,
  "metadata": {
    "colab": {
      "provenance": []
    },
    "kernelspec": {
      "name": "python3",
      "display_name": "Python 3"
    },
    "language_info": {
      "name": "python"
    }
  },
  "cells": [
    {
      "cell_type": "markdown",
      "source": [
        "<aside>\n",
        "💡 **Question 1**\n",
        "\n",
        "A permutation perm of n + 1 integers of all the integers in the range [0, n] can be represented as a string s of length n where:\n",
        "\n",
        "- s[i] == 'I' if perm[i] < perm[i + 1], and\n",
        "- s[i] == 'D' if perm[i] > perm[i + 1].\n",
        "\n",
        "Given a string s, reconstruct the permutation perm and return it. If there are multiple valid permutations perm, return **any of them**.\n",
        "\n",
        "**Example 1:**\n",
        "\n",
        "**Input:** s = \"IDID\"\n",
        "\n",
        "**Output:**\n",
        "\n",
        "[0,4,1,3,2]\n",
        "\n",
        "</aside>"
      ],
      "metadata": {
        "id": "QD7pY0ERdiYF"
      }
    },
    {
      "cell_type": "code",
      "execution_count": 2,
      "metadata": {
        "id": "FVJaIF6ldNlI"
      },
      "outputs": [],
      "source": [
        "def diStringMatch( s: str) -> list():\n",
        "    ans = []\n",
        "    low = 0\n",
        "    high = len(s)\n",
        "    for c in s:\n",
        "        if c == 'I':\n",
        "            ans.append(low)\n",
        "            low+=1\n",
        "        else:\n",
        "            ans.append(high)\n",
        "            high-=1\n",
        "    return ans + [high]"
      ]
    },
    {
      "cell_type": "code",
      "source": [
        "diStringMatch(\"IDIDIDDI\")"
      ],
      "metadata": {
        "colab": {
          "base_uri": "https://localhost:8080/"
        },
        "id": "6OiRcZ_zeeWb",
        "outputId": "97e68f87-b461-4b01-b38b-50381a7571aa"
      },
      "execution_count": 3,
      "outputs": [
        {
          "output_type": "execute_result",
          "data": {
            "text/plain": [
              "[0, 8, 1, 7, 2, 6, 5, 3, 4]"
            ]
          },
          "metadata": {},
          "execution_count": 3
        }
      ]
    },
    {
      "cell_type": "markdown",
      "source": [
        "<aside>\n",
        "💡 **Question 2**\n",
        "\n",
        "You are given an m x n integer matrix matrix with the following two properties:\n",
        "\n",
        "- Each row is sorted in non-decreasing order.\n",
        "- The first integer of each row is greater than the last integer of the previous row.\n",
        "\n",
        "Given an integer target, return true *if* target *is in* matrix *or* false *otherwise*.\n",
        "\n",
        "You must write a solution in O(log(m * n)) time complexity.\n",
        "\n",
        "\n",
        "**Input:** matrix = [[1,3,5,7],[10,11,16,20],[23,30,34,60]], target = 3\n",
        "\n",
        "**Output:** true\n",
        "</aside>"
      ],
      "metadata": {
        "id": "j_F_eSdzen8J"
      }
    },
    {
      "cell_type": "code",
      "source": [
        "def binSer(matrix:list(), target:int())->bool:\n",
        "  array = []\n",
        "  for ar in matrix:\n",
        "    array.extend(ar)\n",
        "  \n",
        "  high = len(array) - 1\n",
        "  low = 0\n",
        "\n",
        "  while low <= high:\n",
        "    mid = (low+high)//2\n",
        "\n",
        "    if target == array[mid]:\n",
        "      return True\n",
        "    elif target > array[mid]:\n",
        "      low = mid+1\n",
        "    else:\n",
        "      high = mid-1\n",
        "  return False\n"
      ],
      "metadata": {
        "id": "qpjeD6Sjeu3i"
      },
      "execution_count": 8,
      "outputs": []
    },
    {
      "cell_type": "code",
      "source": [
        "binSer(matrix = [[1,3,5,7],[10,11,16,20],[23,30,34,60]], target = 3)"
      ],
      "metadata": {
        "colab": {
          "base_uri": "https://localhost:8080/"
        },
        "id": "4EbX8Y9lgA6s",
        "outputId": "1865b30d-e722-4d25-f6a8-eb170955247f"
      },
      "execution_count": 9,
      "outputs": [
        {
          "output_type": "execute_result",
          "data": {
            "text/plain": [
              "True"
            ]
          },
          "metadata": {},
          "execution_count": 9
        }
      ]
    },
    {
      "cell_type": "markdown",
      "source": [
        "<aside>\n",
        "💡 **Question 3**\n",
        "\n",
        "Given an array of integers arr, return *true if and only if it is a valid mountain array*.\n",
        "\n",
        "Recall that arr is a mountain array if and only if:\n",
        "\n",
        "- arr.length >= 3\n",
        "- There exists some i with 0 < i < arr.length - 1 such that:\n",
        "    - arr[0] < arr[1] < ... < arr[i - 1] < arr[i]\n",
        "    - arr[i] > arr[i + 1] > ... > arr[arr.length - 1]\n",
        "**Example 1:**\n",
        "\n",
        "**Input:** arr = [2,1]\n",
        "\n",
        "**Output:**\n",
        "\n",
        "false\n",
        "</aside>"
      ],
      "metadata": {
        "id": "FxMkp48qgwYc"
      }
    },
    {
      "cell_type": "code",
      "source": [
        "def isMountainArr(arr:list())->bool:\n",
        "  if len(arr)<3:\n",
        "    return False\n",
        "  isMountain = True\n",
        "\n",
        "  stance = \"increasing\"\n",
        "\n",
        "  for idx in range(0,len(arr)-1):\n",
        "    if arr[idx] < arr[idx+1] and stance ==\"increasing\":\n",
        "      pass\n",
        "    elif arr[idx]>arr[idx+1] and stance ==\"increasing\":\n",
        "      stance = \"decreasing\"\n",
        "    elif arr[idx] < arr[idx+1] and stance ==\"decreasing\":\n",
        "      return False\n",
        "    \n",
        "  return isMountain\n"
      ],
      "metadata": {
        "id": "aA1e7DAzg22p"
      },
      "execution_count": 12,
      "outputs": []
    },
    {
      "cell_type": "code",
      "source": [
        "isMountainArr([1,2,1])"
      ],
      "metadata": {
        "colab": {
          "base_uri": "https://localhost:8080/"
        },
        "id": "hz2Rt31giMA0",
        "outputId": "d3d9084b-d1dc-4c8f-e4fb-af42fadc944d"
      },
      "execution_count": 15,
      "outputs": [
        {
          "output_type": "execute_result",
          "data": {
            "text/plain": [
              "True"
            ]
          },
          "metadata": {},
          "execution_count": 15
        }
      ]
    },
    {
      "cell_type": "markdown",
      "source": [
        "Given a binary array nums, return *the maximum length of a contiguous subarray with an equal number of* 0 *and* 1.\n",
        "\n",
        "**Example 1:**\n",
        "\n",
        "**Input:** nums = [0,1]\n",
        "\n",
        "**Output:** 2\n",
        "\n",
        "**Explanation:**\n",
        "\n",
        "[0, 1] is the longest contiguous subarray with an equal number of 0 and 1."
      ],
      "metadata": {
        "id": "JqeaOmUoinJr"
      }
    },
    {
      "cell_type": "code",
      "source": [
        "def findMaxLength( nums: list()) -> int():\n",
        "    count = {0: -1}  # Initial count of 0's and 1's\n",
        "    max_len = count_diff = 0\n",
        "    \n",
        "    for i, num in enumerate(nums):\n",
        "        count_diff += 1 if num == 1 else -1  # Increment count of 1's or 0's\n",
        "        if count_diff in count:\n",
        "            max_len = max(max_len, i - count[count_diff])\n",
        "        else:\n",
        "            count[count_diff] = i\n",
        "    \n",
        "    return max_len"
      ],
      "metadata": {
        "id": "c6koq9M5in5a"
      },
      "execution_count": 17,
      "outputs": []
    },
    {
      "cell_type": "code",
      "source": [
        "findMaxLength([0,1,1,1,0,0,0,1,1,0,0,0,0,1,1,1,1,1,1,1])"
      ],
      "metadata": {
        "colab": {
          "base_uri": "https://localhost:8080/"
        },
        "id": "avBmy_L4jtMs",
        "outputId": "509f236c-9b0d-42e1-9335-40c46686e9b0"
      },
      "execution_count": 18,
      "outputs": [
        {
          "output_type": "execute_result",
          "data": {
            "text/plain": [
              "16"
            ]
          },
          "metadata": {},
          "execution_count": 18
        }
      ]
    },
    {
      "cell_type": "markdown",
      "source": [
        "<aside>\n",
        "💡 **Question 5**\n",
        "\n",
        "The **product sum** of two equal-length arrays a and b is equal to the sum of a[i] * b[i] for all 0 <= i < a.length (**0-indexed**).\n",
        "\n",
        "- For example, if a = [1,2,3,4] and b = [5,2,3,1], the **product sum** would be 1*5 + 2*2 + 3*3 + 4*1 = 22.\n",
        "\n",
        "Given two arrays nums1 and nums2 of length n, return *the **minimum product sum** if you are allowed to **rearrange** the **order** of the elements in* nums1.\n",
        "\n",
        "**Example 1:**\n",
        "\n",
        "**Input:** nums1 = [5,3,4,2], nums2 = [4,2,2,5]\n",
        "\n",
        "**Output:** 40\n",
        "\n",
        "**Explanation:**\n",
        "\n",
        "We can rearrange nums1 to become [3,5,4,2]. The product sum of [3,5,4,2] and [4,2,2,5] is 3*4 + 5*2 + 4*2 + 2*5 = 40.\n",
        "\n",
        "</aside>"
      ],
      "metadata": {
        "id": "Hues-_oMj7Th"
      }
    },
    {
      "cell_type": "code",
      "source": [
        "def productSum(a:list(), b:list())->int():\n",
        "  a.sort()\n",
        "  b.sort()\n",
        "  out = 0\n",
        "  for i in range(0,len(a)):\n",
        "    out+= (a[i]*b[(i+1)*-1])\n",
        "  return out"
      ],
      "metadata": {
        "id": "Ud5Fwn-Uj740"
      },
      "execution_count": 20,
      "outputs": []
    },
    {
      "cell_type": "code",
      "source": [
        "\n",
        "productSum(a = [5,3,4,2], b = [4,2,2,5])"
      ],
      "metadata": {
        "colab": {
          "base_uri": "https://localhost:8080/"
        },
        "id": "ZJ32n6rixFAd",
        "outputId": "095949fb-f25b-4799-d55e-83819af8c2e1"
      },
      "execution_count": 21,
      "outputs": [
        {
          "output_type": "execute_result",
          "data": {
            "text/plain": [
              "40"
            ]
          },
          "metadata": {},
          "execution_count": 21
        }
      ]
    },
    {
      "cell_type": "markdown",
      "source": [
        "<aside>\n",
        "💡 **Question 6**\n",
        "\n",
        "An integer array original is transformed into a **doubled** array changed by appending **twice the value** of every element in original, and then randomly **shuffling** the resulting array.\n",
        "\n",
        "Given an array changed, return original *if* changed *is a **doubled** array. If* changed *is not a **doubled** array, return an empty array. The elements in* original *may be returned in **any** order*.\n",
        "\n",
        "**Example 1:**\n",
        "\n",
        "**Input:** changed = [1,3,4,2,6,8]\n",
        "\n",
        "**Output:** [1,3,4]\n",
        "\n",
        "**Explanation:** One possible original array could be [1,3,4]:\n",
        "\n",
        "- Twice the value of 1 is 1 * 2 = 2.\n",
        "- Twice the value of 3 is 3 * 2 = 6.\n",
        "- Twice the value of 4 is 4 * 2 = 8.\n",
        "\n",
        "Other original arrays could be [4,3,1] or [3,1,4].\n",
        "\n",
        "</aside>"
      ],
      "metadata": {
        "id": "2hZ0vna7x_WD"
      }
    },
    {
      "cell_type": "code",
      "source": [
        "##----"
      ],
      "metadata": {
        "id": "AuGi0VGByCFB"
      },
      "execution_count": null,
      "outputs": []
    },
    {
      "cell_type": "markdown",
      "source": [
        "Given a positive integer n, generate an n x n matrix filled with elements from 1 to n2 in spiral order.\n",
        "\n",
        "**Example 1:**\n",
        "\n",
        "**Input:** n = 3\n",
        "\n",
        "**Output:** [[1,2,3],[8,9,4],[7,6,5]]"
      ],
      "metadata": {
        "id": "h1cdhhEjzFY-"
      }
    },
    {
      "cell_type": "code",
      "source": [
        "def spiralOrder(n:int())->list():\n",
        "  A = [[0] * n for _ in range(n)]\n",
        "  i, j, di, dj = 0, 0, 0, 1\n",
        "  for k in range(n*n):\n",
        "      A[i][j] = k + 1\n",
        "      if A[(i+di)%n][(j+dj)%n]:\n",
        "          di, dj = dj, -di\n",
        "      i += di\n",
        "      j += dj\n",
        "  return A\n",
        "  "
      ],
      "metadata": {
        "id": "d0UdZNN5zKtL"
      },
      "execution_count": 25,
      "outputs": []
    },
    {
      "cell_type": "code",
      "source": [
        "spiralOrder(10)"
      ],
      "metadata": {
        "colab": {
          "base_uri": "https://localhost:8080/"
        },
        "id": "gvsloTe34IAO",
        "outputId": "93fe4acc-4cb5-4621-fa3e-550fc8034000"
      },
      "execution_count": 27,
      "outputs": [
        {
          "output_type": "execute_result",
          "data": {
            "text/plain": [
              "[[1, 2, 3, 4, 5, 6, 7, 8, 9, 10],\n",
              " [36, 37, 38, 39, 40, 41, 42, 43, 44, 11],\n",
              " [35, 64, 65, 66, 67, 68, 69, 70, 45, 12],\n",
              " [34, 63, 84, 85, 86, 87, 88, 71, 46, 13],\n",
              " [33, 62, 83, 96, 97, 98, 89, 72, 47, 14],\n",
              " [32, 61, 82, 95, 100, 99, 90, 73, 48, 15],\n",
              " [31, 60, 81, 94, 93, 92, 91, 74, 49, 16],\n",
              " [30, 59, 80, 79, 78, 77, 76, 75, 50, 17],\n",
              " [29, 58, 57, 56, 55, 54, 53, 52, 51, 18],\n",
              " [28, 27, 26, 25, 24, 23, 22, 21, 20, 19]]"
            ]
          },
          "metadata": {},
          "execution_count": 27
        }
      ]
    },
    {
      "cell_type": "markdown",
      "source": [
        "<aside>\n",
        "💡 **Question 8**\n",
        "\n",
        "Given two [sparse matrices](https://en.wikipedia.org/wiki/Sparse_matrix) mat1 of size m x k and mat2 of size k x n, return the result of mat1 x mat2. You may assume that multiplication is always possible.\n",
        "\n",
        "**Example 1:**\n",
        "\n",
        "**Input:** mat1 = [[1,0,0],[-1,0,3]], mat2 = [[7,0,0],[0,0,0],[0,0,1]]\n",
        "\n",
        "**Output:**\n",
        "\n",
        "[[7,0,0],[-7,0,3]]\n",
        "\n",
        "</aside>"
      ],
      "metadata": {
        "id": "Wve6nRjH4nrG"
      }
    },
    {
      "cell_type": "code",
      "source": [
        "def sparseMatrxMul(mat1:list(), mat2:list())->list():\n",
        "  m = len(mat1)\n",
        "  n = len(mat2)\n",
        "  l = len(mat2[0])\n",
        "  ans = [[0] * l for _ in range(m)]\n",
        "\n",
        "  for i in range(m):\n",
        "   for j in range(l):\n",
        "    for k in range(n):\n",
        "      ans[i][j] += mat1[i][k] * mat2[k][j]\n",
        "  return ans\n",
        "      "
      ],
      "metadata": {
        "id": "S_IUfZbO4upV"
      },
      "execution_count": 30,
      "outputs": []
    },
    {
      "cell_type": "code",
      "source": [
        "sparseMatrxMul(mat1 = [[1,0,0],[-1,0,3]], mat2 = [[7,0,0],[0,0,0],[0,0,1]])"
      ],
      "metadata": {
        "colab": {
          "base_uri": "https://localhost:8080/"
        },
        "id": "WodkSR_e6DqW",
        "outputId": "74170bc3-8d01-49a1-96e7-f39027505461"
      },
      "execution_count": 31,
      "outputs": [
        {
          "output_type": "execute_result",
          "data": {
            "text/plain": [
              "[[7, 0, 0], [-7, 0, 3]]"
            ]
          },
          "metadata": {},
          "execution_count": 31
        }
      ]
    }
  ]
}