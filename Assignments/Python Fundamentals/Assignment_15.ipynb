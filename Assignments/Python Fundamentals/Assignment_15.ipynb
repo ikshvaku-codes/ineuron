{
  "nbformat": 4,
  "nbformat_minor": 0,
  "metadata": {
    "colab": {
      "provenance": [],
      "authorship_tag": "ABX9TyOl71IcTkaI9vWhC8IspshH",
      "include_colab_link": true
    },
    "kernelspec": {
      "name": "python3",
      "display_name": "Python 3"
    },
    "language_info": {
      "name": "python"
    }
  },
  "cells": [
    {
      "cell_type": "markdown",
      "metadata": {
        "id": "view-in-github",
        "colab_type": "text"
      },
      "source": [
        "<a href=\"https://colab.research.google.com/github/ikshvaku-codes/DSML-Practice/blob/main/Assignments/Python%20Fundamentals/Assignment_15.ipynb\" target=\"_parent\"><img src=\"https://colab.research.google.com/assets/colab-badge.svg\" alt=\"Open In Colab\"/></a>"
      ]
    },
    {
      "cell_type": "markdown",
      "source": [
        "1.How many seconds are in an hour? Use the interactive interpreter as a calculator and multiply the\n",
        "number of seconds in a minute (60) by the number of minutes in an hour (also 60).\n"
      ],
      "metadata": {
        "id": "PEgskjPdF3Ag"
      }
    },
    {
      "cell_type": "code",
      "source": [
        "minutesInHour = secondsInMinutes = 60\n",
        "\n",
        "minutesInHour * secondsInMinutes"
      ],
      "metadata": {
        "colab": {
          "base_uri": "https://localhost:8080/",
          "height": 0
        },
        "id": "s-EYA-lKF8lp",
        "outputId": "7b4fa428-12bc-4d7b-9aa2-5f60b2fa5a24"
      },
      "execution_count": 2,
      "outputs": [
        {
          "output_type": "execute_result",
          "data": {
            "text/plain": [
              "3600"
            ]
          },
          "metadata": {},
          "execution_count": 2
        }
      ]
    },
    {
      "cell_type": "markdown",
      "source": [
        "\n",
        "2. Assign the result from the previous task (seconds in an hour) to a variable called seconds_per_hour."
      ],
      "metadata": {
        "id": "5n56gigBGM-t"
      }
    },
    {
      "cell_type": "code",
      "source": [
        "seconds_per_hour = minutesInHour * secondsInMinutes"
      ],
      "metadata": {
        "id": "9SyhfkdqGMWS"
      },
      "execution_count": 5,
      "outputs": []
    },
    {
      "cell_type": "markdown",
      "source": [
        "3. How many seconds do you think there are in a day? Make use of the variables seconds per hour\n",
        "and minutes per hour."
      ],
      "metadata": {
        "id": "_C541972GdiV"
      }
    },
    {
      "cell_type": "code",
      "source": [
        "seconds_per_hour * 24"
      ],
      "metadata": {
        "colab": {
          "base_uri": "https://localhost:8080/",
          "height": 0
        },
        "id": "D3lDPNvPGeUI",
        "outputId": "34205b6c-4f20-42fd-fc80-22fc2422882e"
      },
      "execution_count": 6,
      "outputs": [
        {
          "output_type": "execute_result",
          "data": {
            "text/plain": [
              "86400"
            ]
          },
          "metadata": {},
          "execution_count": 6
        }
      ]
    },
    {
      "cell_type": "markdown",
      "source": [
        "4. Calculate seconds per day again, but this time save the result in a variable called seconds_per_day\n"
      ],
      "metadata": {
        "id": "TD0q1oLvGqHj"
      }
    },
    {
      "cell_type": "code",
      "source": [
        "seconds_per_day = seconds_per_hour * 24"
      ],
      "metadata": {
        "id": "D95XpXXRGqzX"
      },
      "execution_count": 7,
      "outputs": []
    },
    {
      "cell_type": "markdown",
      "source": [
        "5. Divide seconds_per_day by seconds_per_hour. Use floating-point (/) division.\n"
      ],
      "metadata": {
        "id": "6GfCv6sCGx-O"
      }
    },
    {
      "cell_type": "code",
      "source": [
        "seconds_per_day / seconds_per_hour"
      ],
      "metadata": {
        "colab": {
          "base_uri": "https://localhost:8080/",
          "height": 0
        },
        "id": "-M-zASbhGyhx",
        "outputId": "c6ac12e9-03ea-4193-8943-1e241cbc81fd"
      },
      "execution_count": 8,
      "outputs": [
        {
          "output_type": "execute_result",
          "data": {
            "text/plain": [
              "24.0"
            ]
          },
          "metadata": {},
          "execution_count": 8
        }
      ]
    },
    {
      "cell_type": "markdown",
      "source": [
        "6. Divide seconds_per_day by seconds_per_hour, using integer (//) division. Did this number agree\n",
        "with the floating-point value from the previous question, aside from the final .0?"
      ],
      "metadata": {
        "id": "AHP4fl_pG8bZ"
      }
    },
    {
      "cell_type": "code",
      "source": [
        "seconds_per_day // seconds_per_hour"
      ],
      "metadata": {
        "colab": {
          "base_uri": "https://localhost:8080/",
          "height": 0
        },
        "id": "xK73RTedG9IF",
        "outputId": "d9e107b6-f057-431f-94a7-097d900715e4"
      },
      "execution_count": 9,
      "outputs": [
        {
          "output_type": "execute_result",
          "data": {
            "text/plain": [
              "24"
            ]
          },
          "metadata": {},
          "execution_count": 9
        }
      ]
    },
    {
      "cell_type": "markdown",
      "source": [
        "\n",
        "\n",
        "\n",
        "\n",
        "\n",
        "\n",
        "7. Write a generator, genPrimes, that returns the sequence of prime numbers on successive calls to\n",
        "its next() method: 2, 3, 5, 7, 11, ..."
      ],
      "metadata": {
        "id": "u4A0jji2FsAC"
      }
    },
    {
      "cell_type": "code",
      "execution_count": 18,
      "metadata": {
        "id": "U8Mu-r9IFrIh"
      },
      "outputs": [],
      "source": [
        "def genPrimes():\n",
        "    n = 2\n",
        "    primes = set()\n",
        "    while True:\n",
        "        for p in primes:\n",
        "            if n % p == 0:\n",
        "                break\n",
        "        else:\n",
        "            primes.add(n)\n",
        "            yield n\n",
        "        n += 1"
      ]
    },
    {
      "cell_type": "code",
      "source": [
        "myPrimeGen = genPrimes()\n",
        "print(next(myPrimeGen))\n",
        "print(next(myPrimeGen))\n",
        "print(next(myPrimeGen))\n",
        "print(next(myPrimeGen))"
      ],
      "metadata": {
        "colab": {
          "base_uri": "https://localhost:8080/",
          "height": 0
        },
        "id": "HmFgBb0nIYUA",
        "outputId": "0c229fdc-61f4-4e06-b4fe-4ebb0b339ae1"
      },
      "execution_count": 21,
      "outputs": [
        {
          "output_type": "stream",
          "name": "stdout",
          "text": [
            "2\n",
            "3\n",
            "5\n",
            "7\n"
          ]
        }
      ]
    }
  ]
}