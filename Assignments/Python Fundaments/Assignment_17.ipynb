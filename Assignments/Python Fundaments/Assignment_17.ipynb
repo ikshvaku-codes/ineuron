{
  "nbformat": 4,
  "nbformat_minor": 0,
  "metadata": {
    "colab": {
      "provenance": []
    },
    "kernelspec": {
      "name": "python3",
      "display_name": "Python 3"
    },
    "language_info": {
      "name": "python"
    }
  },
  "cells": [
    {
      "cell_type": "markdown",
      "source": [
        "1. Assign the value 7 to the variable guess_me. Then, write the conditional tests (if, else, and elif) to\n",
        "print the string &#39;too low&#39; if guess_me is less than 7, &#39;too high&#39; if greater than 7, and &#39;just right&#39; if equal\n",
        "to 7."
      ],
      "metadata": {
        "id": "OgTAxFGHfTcC"
      }
    },
    {
      "cell_type": "code",
      "source": [
        "guess_me = 7\n",
        "if guess_me < 7:\n",
        "  print(\"too low\")\n",
        "elif guess_me > 7:\n",
        "  print(\"too high\")\n",
        "else:\n",
        "  print(\"just right\")"
      ],
      "metadata": {
        "colab": {
          "base_uri": "https://localhost:8080/"
        },
        "id": "m2nOD-6ofUrq",
        "outputId": "7f281fc1-dc51-4391-8314-359477ca6815"
      },
      "execution_count": 1,
      "outputs": [
        {
          "output_type": "stream",
          "name": "stdout",
          "text": [
            "just right\n"
          ]
        }
      ]
    },
    {
      "cell_type": "markdown",
      "source": [
        "2. Assign the value 7 to the variable guess_me and the value 1 to the variable start. Write a while\n",
        "loop that compares start with guess_me. Print too low if start is less than guess me. If start equals\n",
        "guess_me, print &#39;found it!&#39; and exit the loop. If start is greater than guess_me, print &#39;oops&#39; and exit\n",
        "the loop. Increment start at the end of the loop."
      ],
      "metadata": {
        "id": "DCsR8Hccfu4J"
      }
    },
    {
      "cell_type": "code",
      "source": [
        "start = 1\n",
        "loop = True\n",
        "while(loop):\n",
        "  if start > guess_me:\n",
        "    print(\"oops\")\n",
        "    loop = False\n",
        "  elif guess_me > start:\n",
        "    print(\"too low\")\n",
        "  else:\n",
        "    print(\"found it!\")\n",
        "  start+=1"
      ],
      "metadata": {
        "colab": {
          "base_uri": "https://localhost:8080/"
        },
        "id": "yxcFHVCvfwKb",
        "outputId": "1f4ddd28-c853-497e-96c3-dc7adbe8a7b7"
      },
      "execution_count": 2,
      "outputs": [
        {
          "output_type": "stream",
          "name": "stdout",
          "text": [
            "too low\n",
            "too low\n",
            "too low\n",
            "too low\n",
            "too low\n",
            "too low\n",
            "found it!\n",
            "oops\n"
          ]
        }
      ]
    },
    {
      "cell_type": "markdown",
      "source": [
        "3. Print the following values of the list [3, 2, 1, 0] using a for loop.\n"
      ],
      "metadata": {
        "id": "aIJapS31gscb"
      }
    },
    {
      "cell_type": "code",
      "source": [
        "values = [3,2,1,0]\n",
        "for i in values:\n",
        "\n",
        "  print(i)"
      ],
      "metadata": {
        "colab": {
          "base_uri": "https://localhost:8080/"
        },
        "id": "v1WltmH5gtFP",
        "outputId": "f82fc8a6-8ab7-4e2b-d830-279b815c5f60"
      },
      "execution_count": 5,
      "outputs": [
        {
          "output_type": "stream",
          "name": "stdout",
          "text": [
            "3\n",
            "2\n",
            "1\n",
            "0\n"
          ]
        }
      ]
    },
    {
      "cell_type": "markdown",
      "source": [
        "4. Use a list comprehension to make a list of the even numbers in range(10)\n"
      ],
      "metadata": {
        "id": "V23ztutog8mK"
      }
    },
    {
      "cell_type": "code",
      "source": [
        "evenList = [even for even in range(0,10,2)]\n",
        "evenList"
      ],
      "metadata": {
        "colab": {
          "base_uri": "https://localhost:8080/"
        },
        "id": "Nm200B_Pg9Lo",
        "outputId": "b478ea0c-6318-46a5-b644-08f5e76f65fa"
      },
      "execution_count": 7,
      "outputs": [
        {
          "output_type": "execute_result",
          "data": {
            "text/plain": [
              "[0, 2, 4, 6, 8]"
            ]
          },
          "metadata": {},
          "execution_count": 7
        }
      ]
    },
    {
      "cell_type": "markdown",
      "source": [
        "5. Use a dictionary comprehension to create the dictionary squares. Use range(10) to return the\n",
        "keys, and use the square of each key as its value."
      ],
      "metadata": {
        "id": "-1DJqKIXhPhO"
      }
    },
    {
      "cell_type": "code",
      "source": [
        "squareDict = {\n",
        "    key: key*key for key in range(10)\n",
        "}\n",
        "squareDict"
      ],
      "metadata": {
        "colab": {
          "base_uri": "https://localhost:8080/"
        },
        "id": "oeeyyTIFhQM5",
        "outputId": "ce798b55-e65c-4625-ffc4-c00e6c3ec100"
      },
      "execution_count": 8,
      "outputs": [
        {
          "output_type": "execute_result",
          "data": {
            "text/plain": [
              "{0: 0, 1: 1, 2: 4, 3: 9, 4: 16, 5: 25, 6: 36, 7: 49, 8: 64, 9: 81}"
            ]
          },
          "metadata": {},
          "execution_count": 8
        }
      ]
    },
    {
      "cell_type": "markdown",
      "source": [
        "\n",
        "\n",
        "\n",
        "6. Construct the set odd from the odd numbers in the range using a set comprehension (10)."
      ],
      "metadata": {
        "id": "4SK84EQJhkw3"
      }
    },
    {
      "cell_type": "code",
      "source": [
        "oddSet = {odd for odd in range(1,10,2)}\n",
        "\n",
        "oddSet"
      ],
      "metadata": {
        "colab": {
          "base_uri": "https://localhost:8080/"
        },
        "id": "MRdUUn4xhlXZ",
        "outputId": "9d461151-e236-4c62-b173-d44fc2579da4"
      },
      "execution_count": 9,
      "outputs": [
        {
          "output_type": "execute_result",
          "data": {
            "text/plain": [
              "{1, 3, 5, 7, 9}"
            ]
          },
          "metadata": {},
          "execution_count": 9
        }
      ]
    },
    {
      "cell_type": "markdown",
      "source": [
        "7. Use a generator comprehension to return the string &#39;Got &#39; and a number for the numbers in\n",
        "range(10). Iterate through this by using a for loop."
      ],
      "metadata": {
        "id": "scVPL3aDh0ON"
      }
    },
    {
      "cell_type": "code",
      "source": [
        "string_gen = (\"GOt \"+ str(num) for num in range(10))\n",
        "for strg in string_gen:\n",
        "  print(strg)"
      ],
      "metadata": {
        "colab": {
          "base_uri": "https://localhost:8080/"
        },
        "id": "5K2hO7UIh4sV",
        "outputId": "73eb5c41-cd23-4501-f2e9-c3d3f8260138"
      },
      "execution_count": 10,
      "outputs": [
        {
          "output_type": "stream",
          "name": "stdout",
          "text": [
            "GOt 0\n",
            "GOt 1\n",
            "GOt 2\n",
            "GOt 3\n",
            "GOt 4\n",
            "GOt 5\n",
            "GOt 6\n",
            "GOt 7\n",
            "GOt 8\n",
            "GOt 9\n"
          ]
        }
      ]
    },
    {
      "cell_type": "markdown",
      "source": [
        "8. Define a function called good that returns the list [&#39;Harry&#39;, &#39;Ron&#39;, &#39;Hermione&#39;]."
      ],
      "metadata": {
        "id": "L16-evLNigVa"
      }
    },
    {
      "cell_type": "code",
      "source": [
        "def good():\n",
        "  return  ['Harry', 'Ron', 'Hermione']\n",
        "\n",
        "good()"
      ],
      "metadata": {
        "colab": {
          "base_uri": "https://localhost:8080/"
        },
        "id": "0JH8-rGnihHi",
        "outputId": "125dc667-fdec-4a0e-dfbd-7863934a6dda"
      },
      "execution_count": 11,
      "outputs": [
        {
          "output_type": "execute_result",
          "data": {
            "text/plain": [
              "['Harry', 'Ron', 'Hermione']"
            ]
          },
          "metadata": {},
          "execution_count": 11
        }
      ]
    },
    {
      "cell_type": "markdown",
      "source": [
        "9. Define a generator function called get_odds that returns the odd numbers from range(10). Use a\n",
        "for loop to find and print the third value returned."
      ],
      "metadata": {
        "id": "SYxp8rjjivPc"
      }
    },
    {
      "cell_type": "code",
      "source": [
        "def get_odds():\n",
        "  for i in range(1,10,2):\n",
        "    yield i\n",
        "\n",
        "oddsObj = get_odds()\n",
        "printValue = 0\n",
        "for i in range(1,4):\n",
        "  printValue = next(oddsObj)\n",
        "\n",
        "print(printValue)"
      ],
      "metadata": {
        "colab": {
          "base_uri": "https://localhost:8080/"
        },
        "id": "hV-pCxEHiwD2",
        "outputId": "769585b5-7829-487e-be5f-3a918735bf0e"
      },
      "execution_count": 13,
      "outputs": [
        {
          "output_type": "stream",
          "name": "stdout",
          "text": [
            "5\n"
          ]
        }
      ]
    },
    {
      "cell_type": "markdown",
      "source": [
        "10. Define an exception called OopsException. Raise this exception to see what happens. Then write\n",
        "the code to catch this exception and print &#39;Caught an oops&#39;."
      ],
      "metadata": {
        "id": "czbpprksjXsg"
      }
    },
    {
      "cell_type": "code",
      "source": [
        "class OopsException(Exception):\n",
        "  pass\n",
        "\n",
        "def expRaise(a):\n",
        "  if a<0:\n",
        "    raise OopsException;\n",
        "\n",
        "try:\n",
        "  expRaise(-1)\n",
        "except OopsException:\n",
        "  print(\"Caught an oops\")"
      ],
      "metadata": {
        "colab": {
          "base_uri": "https://localhost:8080/"
        },
        "id": "JQeEv0odjYeb",
        "outputId": "7b2f388c-07ab-43b6-a9bf-8be614370b95"
      },
      "execution_count": 14,
      "outputs": [
        {
          "output_type": "stream",
          "name": "stdout",
          "text": [
            "Caught an oops\n"
          ]
        }
      ]
    },
    {
      "cell_type": "markdown",
      "source": [
        "\n",
        "\n",
        "\n",
        "\n",
        "\n",
        "11. Use zip() to make a dictionary called movies that pairs these lists: titles = [&#39;Creature of Habit&#39;,\n",
        "&#39;Crewel Fate&#39;] and plots = [&#39;A nun turns into a monster&#39;, &#39;A haunted yarn shop&#39;]."
      ],
      "metadata": {
        "id": "SMZLDWJzfQGV"
      }
    },
    {
      "cell_type": "code",
      "source": [
        "titles = ['Creature of Habit', 'Crewel Fate']\n",
        "plots = ['A nun turns into a monster', 'A haunted yarn shop']\n",
        "\n",
        "movies = dict(zip(titles,plots))\n",
        "movies"
      ],
      "metadata": {
        "colab": {
          "base_uri": "https://localhost:8080/"
        },
        "id": "VMrlxF7xkVhg",
        "outputId": "2a685aec-e01d-4c40-a7e5-b67ed0e9d888"
      },
      "execution_count": 15,
      "outputs": [
        {
          "output_type": "execute_result",
          "data": {
            "text/plain": [
              "{'Creature of Habit': 'A nun turns into a monster',\n",
              " 'Crewel Fate': 'A haunted yarn shop'}"
            ]
          },
          "metadata": {},
          "execution_count": 15
        }
      ]
    }
  ]
}