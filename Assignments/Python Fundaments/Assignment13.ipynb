{
  "nbformat": 4,
  "nbformat_minor": 0,
  "metadata": {
    "colab": {
      "provenance": []
    },
    "kernelspec": {
      "name": "python3",
      "display_name": "Python 3"
    },
    "language_info": {
      "name": "python"
    }
  },
  "cells": [
    {
      "cell_type": "markdown",
      "source": [
        "1. What advantages do Excel spreadsheets have over CSV spreadsheets?\n"
      ],
      "metadata": {
        "id": "Yj4zuVvn0Rd8"
      }
    },
    {
      "cell_type": "markdown",
      "source": [
        "      1. Excel Can be Password Protected.\n",
        "      2. Excel can use VBA coding to create functions and make summaries much easily\n",
        "      3. Reading Large data set is much easier for end user.\n",
        "\n",
        "\n",
        "\n",
        "\n"
      ],
      "metadata": {
        "id": "CcpG4G5E0eQc"
      }
    },
    {
      "cell_type": "markdown",
      "source": [
        "2. What do you pass to csv.reader() and csv.writer() to create reader and writer objects?\n"
      ],
      "metadata": {
        "id": "ADeP0F980Tzr"
      }
    },
    {
      "cell_type": "markdown",
      "source": [
        "        We pass an object of file to csv reader() and writer()"
      ],
      "metadata": {
        "id": "IRm0WYMa1RFE"
      }
    },
    {
      "cell_type": "markdown",
      "source": [
        "3. What modes do File objects for reader and writer objects need to be opened in?\n"
      ],
      "metadata": {
        "id": "-PZTITqN0Veq"
      }
    },
    {
      "cell_type": "markdown",
      "source": [
        "    1. csv.reader():- file must be in read mode.\n",
        "    2. csv.writer():- file must be in write mode."
      ],
      "metadata": {
        "id": "8GnRfgHj11jk"
      }
    },
    {
      "cell_type": "markdown",
      "source": [
        "4. What method takes a list argument and writes it to a CSV file?\n"
      ],
      "metadata": {
        "id": "KEOKct9_0XIB"
      }
    },
    {
      "cell_type": "markdown",
      "source": [
        "    csv.writer().writerow()"
      ],
      "metadata": {
        "id": "qOwxp2L32ML4"
      }
    },
    {
      "cell_type": "markdown",
      "source": [
        "5. What do the keyword arguments delimiter and line terminator do?\n"
      ],
      "metadata": {
        "id": "y6p_P96l0Y7b"
      }
    },
    {
      "cell_type": "markdown",
      "source": [
        "    delimiter:- It defines the character which defines that the cell is now over and begin new cell\n",
        "    terminator:- It signifies the end of current row\n",
        "\n",
        "    eg: A,b,c;d,e,f\n",
        "        if delimiter = , and terminator is ; than output will be\n",
        "                a     b    c\n",
        "                d     e    f"
      ],
      "metadata": {
        "id": "zQ65HKfe2fWf"
      }
    },
    {
      "cell_type": "markdown",
      "source": [
        "6. What function takes a string of JSON data and returns a Python data structure?\n",
        "\n"
      ],
      "metadata": {
        "id": "daamoGKX0aeO"
      }
    },
    {
      "cell_type": "markdown",
      "source": [
        "      json.load() takes data as a json file and return dictionary."
      ],
      "metadata": {
        "id": "KucYo1Yo3P_0"
      }
    },
    {
      "cell_type": "markdown",
      "source": [
        "7. What function takes a Python data structure and returns a string of JSON data?\n",
        "\n",
        "\n"
      ],
      "metadata": {
        "id": "WJ8ml8yH0bks"
      }
    },
    {
      "cell_type": "markdown",
      "source": [
        "    json.dump()"
      ],
      "metadata": {
        "id": "JxagFHyF39P5"
      }
    }
  ]
}