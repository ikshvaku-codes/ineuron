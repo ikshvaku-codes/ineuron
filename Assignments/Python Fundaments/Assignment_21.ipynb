{
  "nbformat": 4,
  "nbformat_minor": 0,
  "metadata": {
    "colab": {
      "provenance": []
    },
    "kernelspec": {
      "name": "python3",
      "display_name": "Python 3"
    },
    "language_info": {
      "name": "python"
    }
  },
  "cells": [
    {
      "cell_type": "markdown",
      "source": [
        "1. Add the current date to the text file today.txt as a string.\n"
      ],
      "metadata": {
        "id": "yU8W1qEEV684"
      }
    },
    {
      "cell_type": "code",
      "execution_count": 5,
      "metadata": {
        "id": "mBjwRVgiV2tG"
      },
      "outputs": [],
      "source": [
        "from datetime import date\n",
        "today = date.today()\n",
        "with open(\"today.txt\", \"w\") as f:\n",
        "  f.write(str(today))\n"
      ]
    },
    {
      "cell_type": "markdown",
      "source": [
        "2. Read the text file today.txt into the string today_string\n"
      ],
      "metadata": {
        "id": "czPwwvXdWj8F"
      }
    },
    {
      "cell_type": "code",
      "source": [
        "today_string = \"\"\n",
        "with open(\"today.txt\" , \"r\") as f:\n",
        "  today_string = f.read()\n",
        "today_string"
      ],
      "metadata": {
        "colab": {
          "base_uri": "https://localhost:8080/",
          "height": 36
        },
        "id": "SgWzulpuWkjg",
        "outputId": "7767f7c1-10c9-4010-c0e5-f496a89512c8"
      },
      "execution_count": 6,
      "outputs": [
        {
          "output_type": "execute_result",
          "data": {
            "text/plain": [
              "'2023-05-22'"
            ],
            "application/vnd.google.colaboratory.intrinsic+json": {
              "type": "string"
            }
          },
          "metadata": {},
          "execution_count": 6
        }
      ]
    },
    {
      "cell_type": "markdown",
      "source": [
        "3. Parse the date from today_string."
      ],
      "metadata": {
        "id": "Qd3IFYiIWzpm"
      }
    },
    {
      "cell_type": "code",
      "source": [
        "from datetime import datetime\n",
        "\n",
        "datetime.strptime(today_string, '%Y-%m-%d').date()"
      ],
      "metadata": {
        "colab": {
          "base_uri": "https://localhost:8080/"
        },
        "id": "T6kBo23YW0eT",
        "outputId": "6d145d50-185b-4e4d-c55d-4905ceb30c08"
      },
      "execution_count": 21,
      "outputs": [
        {
          "output_type": "execute_result",
          "data": {
            "text/plain": [
              "datetime.date(2023, 5, 22)"
            ]
          },
          "metadata": {},
          "execution_count": 21
        }
      ]
    },
    {
      "cell_type": "markdown",
      "source": [
        "4. List the files in your current directory\n"
      ],
      "metadata": {
        "id": "KPEF-cbEYvZz"
      }
    },
    {
      "cell_type": "code",
      "source": [
        "import os, sys\n",
        "os.listdir(\"/content/sample_data\")"
      ],
      "metadata": {
        "colab": {
          "base_uri": "https://localhost:8080/"
        },
        "id": "9USIHoWyYv7c",
        "outputId": "08cde3f4-253b-4f56-a1ce-e8be7dff0e56"
      },
      "execution_count": 25,
      "outputs": [
        {
          "output_type": "execute_result",
          "data": {
            "text/plain": [
              "['anscombe.json',\n",
              " 'README.md',\n",
              " 'california_housing_test.csv',\n",
              " 'mnist_test.csv',\n",
              " 'mnist_train_small.csv',\n",
              " 'california_housing_train.csv']"
            ]
          },
          "metadata": {},
          "execution_count": 25
        }
      ]
    },
    {
      "cell_type": "markdown",
      "source": [
        "5. Create a list of all of the files in your parent directory (minimum five files should be available)."
      ],
      "metadata": {
        "id": "uLvrAeshY3sl"
      }
    },
    {
      "cell_type": "code",
      "source": [
        "listOfFiles = os.listdir(\"/content/sample_data\")"
      ],
      "metadata": {
        "id": "7QdxyXu6Y5YY"
      },
      "execution_count": 26,
      "outputs": []
    },
    {
      "cell_type": "markdown",
      "source": [
        "\n",
        "6. Use multiprocessing to create three separate processes. Make each one wait a random number of\n",
        "seconds between one and five, print the current time, and then exit."
      ],
      "metadata": {
        "id": "7CJQ-Hq_ZONl"
      }
    },
    {
      "cell_type": "code",
      "source": [
        "from multiprocessing import Process\n",
        "from datetime import datetime\n",
        "import random, time\n",
        "def printTime(): \n",
        "  \n",
        "  print(str(datetime.now())+\"\\n\")\n",
        "\n",
        "\n",
        "process1 = Process(target = printTime)\n",
        "process2 = Process(target = printTime)\n",
        "process3 = Process(target = printTime)\n",
        "\n",
        "process1.start()\n",
        "time.sleep(random.randint(1,5))\n",
        "process2.start()\n",
        "time.sleep(random.randint(1,5))\n",
        "process3.start()\n"
      ],
      "metadata": {
        "colab": {
          "base_uri": "https://localhost:8080/"
        },
        "id": "JiuFsTGmZO0r",
        "outputId": "3daf787b-2f9e-492a-d2b5-96331f866895"
      },
      "execution_count": 35,
      "outputs": [
        {
          "output_type": "stream",
          "name": "stdout",
          "text": [
            "2023-05-22 09:09:51.411586\n",
            "\n",
            "2023-05-22 09:09:53.421173\n",
            "\n",
            "2023-05-22 09:09:58.431623\n",
            "\n"
          ]
        }
      ]
    },
    {
      "cell_type": "markdown",
      "source": [
        "7. Create a date object of your day of birth.\n"
      ],
      "metadata": {
        "id": "In-ABgsBuRlL"
      }
    },
    {
      "cell_type": "code",
      "source": [
        "from datetime import date\n",
        "birthday_string = \"1998-11-28\"\n",
        "birthDayObj = datetime.strptime(birthday_string, '%Y-%m-%d').date()"
      ],
      "metadata": {
        "id": "I4aMwqLuuSLU"
      },
      "execution_count": 37,
      "outputs": []
    },
    {
      "cell_type": "markdown",
      "source": [
        "8. What day of the week was your day of birth?\n"
      ],
      "metadata": {
        "id": "4Ao-48SzukI3"
      }
    },
    {
      "cell_type": "code",
      "source": [
        "birthDayObj.isoweekday()"
      ],
      "metadata": {
        "colab": {
          "base_uri": "https://localhost:8080/"
        },
        "id": "-2cobmTmukzj",
        "outputId": "2cf47fe1-20ff-4e96-e2b7-f8a204c52d99"
      },
      "execution_count": 41,
      "outputs": [
        {
          "output_type": "execute_result",
          "data": {
            "text/plain": [
              "6"
            ]
          },
          "metadata": {},
          "execution_count": 41
        }
      ]
    },
    {
      "cell_type": "markdown",
      "source": [
        "\n",
        "\n",
        "9. When will you be (or when were you) 10,000 days old?"
      ],
      "metadata": {
        "id": "_x8K9xyHV5qO"
      }
    },
    {
      "cell_type": "code",
      "source": [
        "from datetime import timedelta\n",
        "\n",
        "newDate = birthDayObj + timedelta(days = 10000)\n",
        "newDate"
      ],
      "metadata": {
        "colab": {
          "base_uri": "https://localhost:8080/"
        },
        "id": "l0ySx0Lou9NR",
        "outputId": "677c5e65-644c-476c-a470-9742f84e5744"
      },
      "execution_count": 42,
      "outputs": [
        {
          "output_type": "execute_result",
          "data": {
            "text/plain": [
              "datetime.date(2026, 4, 15)"
            ]
          },
          "metadata": {},
          "execution_count": 42
        }
      ]
    }
  ]
}