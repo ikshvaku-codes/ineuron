{
  "nbformat": 4,
  "nbformat_minor": 0,
  "metadata": {
    "colab": {
      "provenance": []
    },
    "kernelspec": {
      "name": "python3",
      "display_name": "Python 3"
    },
    "language_info": {
      "name": "python"
    }
  },
  "cells": [
    {
      "cell_type": "markdown",
      "source": [
        "1. Create a list called years_list, starting with the year of your birth, and each year thereafter until\n",
        "the year of your fifth birthday. For example, if you were born in 1980. the list would be years_list =\n",
        "[1980, 1981, 1982, 1983, 1984, 1985]."
      ],
      "metadata": {
        "id": "9Z2VbYKmKRSZ"
      }
    },
    {
      "cell_type": "code",
      "source": [
        "initialYear = 1998\n",
        "years_list = [x for x in range(initialYear, initialYear+6)]"
      ],
      "metadata": {
        "id": "WEOifO7uKSNO"
      },
      "execution_count": 3,
      "outputs": []
    },
    {
      "cell_type": "markdown",
      "source": [
        "2. In which year in years_list was your third birthday? Remember, you were 0 years of age for your\n",
        "first year."
      ],
      "metadata": {
        "id": "z0DrDANbKiTp"
      }
    },
    {
      "cell_type": "code",
      "source": [
        "years_list[3] # As item at index 0 is birth year"
      ],
      "metadata": {
        "colab": {
          "base_uri": "https://localhost:8080/"
        },
        "id": "ZkD7Y4mnKjFk",
        "outputId": "99469623-4a93-4ee0-95a6-15521f8c86cb"
      },
      "execution_count": 4,
      "outputs": [
        {
          "output_type": "execute_result",
          "data": {
            "text/plain": [
              "2001"
            ]
          },
          "metadata": {},
          "execution_count": 4
        }
      ]
    },
    {
      "cell_type": "markdown",
      "source": [
        "3. In the years list, which year were you the oldest?\n"
      ],
      "metadata": {
        "id": "kxoVjuJ-KzXv"
      }
    },
    {
      "cell_type": "code",
      "source": [
        "years_list[-1]"
      ],
      "metadata": {
        "colab": {
          "base_uri": "https://localhost:8080/"
        },
        "id": "8TB8WOfRK0Ur",
        "outputId": "7e5f904e-8e3b-484d-c433-d707e2281045"
      },
      "execution_count": 5,
      "outputs": [
        {
          "output_type": "execute_result",
          "data": {
            "text/plain": [
              "2003"
            ]
          },
          "metadata": {},
          "execution_count": 5
        }
      ]
    },
    {
      "cell_type": "markdown",
      "source": [
        "\n",
        "4. Make a list called things with these three strings as elements: &quot;mozzarella&quot;, &quot;cinderella&quot;,\n",
        "&quot;salmonella&quot;."
      ],
      "metadata": {
        "id": "3JGVd9fFLBVA"
      }
    },
    {
      "cell_type": "code",
      "source": [
        "things = [ \"mozzarella\", \"cinderella\", \"salmonella\"]\n",
        "things"
      ],
      "metadata": {
        "colab": {
          "base_uri": "https://localhost:8080/"
        },
        "id": "ldlm0qgVLBz-",
        "outputId": "ed03843b-1eac-4012-f353-5d98baf750a2"
      },
      "execution_count": 7,
      "outputs": [
        {
          "output_type": "execute_result",
          "data": {
            "text/plain": [
              "['mozzarella', 'cinderella', 'salmonella']"
            ]
          },
          "metadata": {},
          "execution_count": 7
        }
      ]
    },
    {
      "cell_type": "markdown",
      "source": [
        "\n",
        "\n",
        "5. Capitalize the element in things that refers to a person and then print the list. Did it change the\n",
        "element in the list?"
      ],
      "metadata": {
        "id": "PhMDmElNLNFg"
      }
    },
    {
      "cell_type": "code",
      "source": [
        "for thing in things:\n",
        "  print(thing.capitalize())\n",
        "\n",
        "things\n",
        "#No, capitalise will not change the items in the list"
      ],
      "metadata": {
        "colab": {
          "base_uri": "https://localhost:8080/"
        },
        "id": "egX4CEPpLNrC",
        "outputId": "b3d59c8a-e910-4148-e2e1-10310b25670c"
      },
      "execution_count": 8,
      "outputs": [
        {
          "output_type": "stream",
          "name": "stdout",
          "text": [
            "Mozzarella\n",
            "Cinderella\n",
            "Salmonella\n"
          ]
        },
        {
          "output_type": "execute_result",
          "data": {
            "text/plain": [
              "['mozzarella', 'cinderella', 'salmonella']"
            ]
          },
          "metadata": {},
          "execution_count": 8
        }
      ]
    },
    {
      "cell_type": "markdown",
      "source": [
        "6. Make a surprise list with the elements &quot;Groucho,&quot; &quot;Chico,&quot; and &quot;Harpo.&quot;\n",
        "\n",
        "---\n",
        "\n"
      ],
      "metadata": {
        "id": "YAC4C-gTLhcX"
      }
    },
    {
      "cell_type": "code",
      "source": [
        "surpriseList = [ \"Groucho,\" \"Chico,\" , \"Harpo\"]\n",
        "\n",
        "surpriseList"
      ],
      "metadata": {
        "colab": {
          "base_uri": "https://localhost:8080/"
        },
        "id": "fsx12T96Lh8T",
        "outputId": "3f8625e7-27a7-4e79-8bfb-084da5ff43b2"
      },
      "execution_count": 9,
      "outputs": [
        {
          "output_type": "execute_result",
          "data": {
            "text/plain": [
              "['Groucho,Chico,', 'Harpo']"
            ]
          },
          "metadata": {},
          "execution_count": 9
        }
      ]
    },
    {
      "cell_type": "markdown",
      "source": [
        "7. Lowercase the last element of the surprise list, reverse it, and then capitalize it."
      ],
      "metadata": {
        "id": "8t714xWWL1EM"
      }
    },
    {
      "cell_type": "code",
      "source": [
        "#LowerCase\n",
        "print(surpriseList[-1].lower())\n",
        "#Reverse\n",
        "print(surpriseList[-1][::-1])\n",
        "#Capitalize\n",
        "print(surpriseList[-1].capitalize())\n"
      ],
      "metadata": {
        "colab": {
          "base_uri": "https://localhost:8080/"
        },
        "id": "Uo2W9GzPL4Dx",
        "outputId": "1c3c75db-5408-41ae-f827-f114cabea282"
      },
      "execution_count": 10,
      "outputs": [
        {
          "output_type": "stream",
          "name": "stdout",
          "text": [
            "harpo\n",
            "opraH\n",
            "Harpo\n"
          ]
        }
      ]
    },
    {
      "cell_type": "markdown",
      "source": [
        "8. Make an English-to-French dictionary called e2f and print it. Here are your starter words: dog is\n",
        "chien, cat is chat, and walrus is morse."
      ],
      "metadata": {
        "id": "-98ZTDKPMVy4"
      }
    },
    {
      "cell_type": "code",
      "source": [
        "e2f = {\n",
        "    \"dog\":\"chien\",\n",
        "    \"cat\":\"chat\",\n",
        "    \"walrus\":\"morse\"\n",
        "}"
      ],
      "metadata": {
        "id": "iff6ikn7MWt8"
      },
      "execution_count": 11,
      "outputs": []
    },
    {
      "cell_type": "markdown",
      "source": [
        "9. Write the French word for walrus in your three-word dictionary e2f.\n"
      ],
      "metadata": {
        "id": "XMlZEtY2MjU1"
      }
    },
    {
      "cell_type": "code",
      "source": [
        "print(e2f[\"walrus\"])"
      ],
      "metadata": {
        "colab": {
          "base_uri": "https://localhost:8080/"
        },
        "id": "J3rjrZKoMk8b",
        "outputId": "248bde24-02a2-4204-ef28-506542983b9d"
      },
      "execution_count": 12,
      "outputs": [
        {
          "output_type": "stream",
          "name": "stdout",
          "text": [
            "morse\n"
          ]
        }
      ]
    },
    {
      "cell_type": "markdown",
      "source": [
        "10. Make a French-to-English dictionary called f2e from e2f. Use the items method."
      ],
      "metadata": {
        "id": "Y34Izk0dMtia"
      }
    },
    {
      "cell_type": "code",
      "source": [
        "f2e = dict((value, key) for key, value in e2f.items())\n",
        "f2e"
      ],
      "metadata": {
        "colab": {
          "base_uri": "https://localhost:8080/"
        },
        "id": "kIqOKNRJMuD0",
        "outputId": "3aec4b45-76a4-446a-9af0-7469ed63a77e"
      },
      "execution_count": 14,
      "outputs": [
        {
          "output_type": "execute_result",
          "data": {
            "text/plain": [
              "{'chien': 'dog', 'chat': 'cat', 'morse': 'walrus'}"
            ]
          },
          "metadata": {},
          "execution_count": 14
        }
      ]
    },
    {
      "cell_type": "markdown",
      "source": [
        "11. Print the English version of the French word chien using f2e.\n"
      ],
      "metadata": {
        "id": "kLnxp3pnNJOx"
      }
    },
    {
      "cell_type": "code",
      "source": [
        "f2e[\"chien\"]"
      ],
      "metadata": {
        "colab": {
          "base_uri": "https://localhost:8080/",
          "height": 36
        },
        "id": "B77ekidrNJ7E",
        "outputId": "a01b6181-0815-48be-92da-d28fce2696f5"
      },
      "execution_count": 15,
      "outputs": [
        {
          "output_type": "execute_result",
          "data": {
            "text/plain": [
              "'dog'"
            ],
            "application/vnd.google.colaboratory.intrinsic+json": {
              "type": "string"
            }
          },
          "metadata": {},
          "execution_count": 15
        }
      ]
    },
    {
      "cell_type": "markdown",
      "source": [
        "12. Make and print a set of English words from the keys in e2f.\n"
      ],
      "metadata": {
        "id": "Z8yCO50aNSkW"
      }
    },
    {
      "cell_type": "code",
      "source": [
        "engSet = e2f.keys()"
      ],
      "metadata": {
        "id": "TMR9ArhkNTNG"
      },
      "execution_count": 16,
      "outputs": []
    },
    {
      "cell_type": "markdown",
      "source": [
        "13. Make a multilevel dictionary called life. Use these strings for the topmost keys: &#39;animals&#39;, &#39;plants&#39;,\n",
        "and &#39;other&#39;. Make the &#39;animals&#39; key refer to another dictionary with the keys &#39;cats&#39;, &#39;octopi&#39;, and\n",
        "&#39;emus&#39;. Make the &#39;cats&#39; key refer to a list of strings with the values &#39;Henri&#39;, &#39;Grumpy&#39;, and &#39;Lucy&#39;.\n",
        "Make all the other keys refer to empty dictionaries."
      ],
      "metadata": {
        "id": "pbg8vahkNly_"
      }
    },
    {
      "cell_type": "code",
      "source": [
        "life = {\n",
        "    'animals':{\n",
        "        'cats':['Henri', 'Grumpy', 'Lucy'],\n",
        "        'octopi':dict(),\n",
        "        'emus':dict()\n",
        "    },\n",
        "    'plant':dict(),\n",
        "    'other':dict()\n",
        "}"
      ],
      "metadata": {
        "id": "mYyd5i4sNmbR"
      },
      "execution_count": 20,
      "outputs": []
    },
    {
      "cell_type": "markdown",
      "source": [
        "14. Print the top-level keys of life.\n"
      ],
      "metadata": {
        "id": "Byg4ZLPCOIpY"
      }
    },
    {
      "cell_type": "code",
      "source": [
        "print(life.keys())"
      ],
      "metadata": {
        "colab": {
          "base_uri": "https://localhost:8080/"
        },
        "id": "BoBKLtuEOK9F",
        "outputId": "f83056b3-2465-4635-828e-f3cea4ab5ce6"
      },
      "execution_count": 21,
      "outputs": [
        {
          "output_type": "stream",
          "name": "stdout",
          "text": [
            "dict_keys(['animals', 'plant', 'other'])\n"
          ]
        }
      ]
    },
    {
      "cell_type": "markdown",
      "source": [
        "15. Print the keys for life[&#39;animals&#39;].\n"
      ],
      "metadata": {
        "id": "j5U_Q8bbOKXy"
      }
    },
    {
      "cell_type": "code",
      "source": [
        "print(life[\"animals\"].keys())"
      ],
      "metadata": {
        "colab": {
          "base_uri": "https://localhost:8080/"
        },
        "id": "j8HjbVBHOPQB",
        "outputId": "132efeed-beea-44a7-e183-3157c4c8e054"
      },
      "execution_count": 22,
      "outputs": [
        {
          "output_type": "stream",
          "name": "stdout",
          "text": [
            "dict_keys(['cats', 'octopi', 'emus'])\n"
          ]
        }
      ]
    },
    {
      "cell_type": "markdown",
      "source": [
        "\n",
        "\n",
        "16. Print the values for life[&#39;animals&#39;][&#39;cats&#39;]"
      ],
      "metadata": {
        "id": "IZmhzlj6KCeZ"
      }
    },
    {
      "cell_type": "code",
      "execution_count": 23,
      "metadata": {
        "colab": {
          "base_uri": "https://localhost:8080/"
        },
        "id": "oScXFwg_KBPC",
        "outputId": "8a2c86cc-e106-4973-bdad-fd7b3beff436"
      },
      "outputs": [
        {
          "output_type": "stream",
          "name": "stdout",
          "text": [
            "['Henri', 'Grumpy', 'Lucy']\n"
          ]
        }
      ],
      "source": [
        "print(life['animals']['cats'])"
      ]
    }
  ]
}