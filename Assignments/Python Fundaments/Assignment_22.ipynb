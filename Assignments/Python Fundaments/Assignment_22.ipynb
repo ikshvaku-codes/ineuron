{
  "nbformat": 4,
  "nbformat_minor": 0,
  "metadata": {
    "colab": {
      "provenance": []
    },
    "kernelspec": {
      "name": "python3",
      "display_name": "Python 3"
    },
    "language_info": {
      "name": "python"
    }
  },
  "cells": [
    {
      "cell_type": "markdown",
      "source": [
        "1. What is the result of the code, and explain?\n",
        "\n",
        "&gt;&gt;&gt; X = &#39;iNeuron&#39;\n",
        "&gt;&gt;&gt; def func():\n",
        "print(X)\n",
        "\n",
        "&gt;&gt;&gt; func()"
      ],
      "metadata": {
        "id": "LDO7EjwKwlOg"
      }
    },
    {
      "cell_type": "code",
      "execution_count": 2,
      "metadata": {
        "colab": {
          "base_uri": "https://localhost:8080/"
        },
        "id": "I8BOUwRgwg8f",
        "outputId": "6bec7975-0d9f-42b2-fe8a-a974df2f604d"
      },
      "outputs": [
        {
          "output_type": "stream",
          "name": "stdout",
          "text": [
            "iNeuron\n"
          ]
        }
      ],
      "source": [
        "X = 'iNeuron' \n",
        "def func(): \n",
        "  print(X)\n",
        "func()\n",
        "\n",
        "# Because X is a global variable"
      ]
    },
    {
      "cell_type": "markdown",
      "source": [
        "\n",
        "2. What is the result of the code, and explain?\n",
        "\n",
        "&gt;&gt;&gt; X = &#39;iNeuron&#39;\n",
        "&gt;&gt;&gt; def func():\n",
        "X = &#39;NI!&#39;\n",
        "\n",
        "&gt;&gt;&gt; func()\n",
        "&gt;&gt;&gt; print(X)"
      ],
      "metadata": {
        "id": "NOdJ9uSaw8jo"
      }
    },
    {
      "cell_type": "code",
      "source": [
        "X = 'iNeuron' \n",
        "def func(): \n",
        "  X = 'NI!'\n",
        "func()\n",
        "print(X)\n",
        "#X is updated to 'NI!' but only inside the func function, outside the value will remain 'iNeuron'"
      ],
      "metadata": {
        "colab": {
          "base_uri": "https://localhost:8080/"
        },
        "id": "nYSs51yhw9SZ",
        "outputId": "41c4226b-4722-456f-ddc6-badc2cd426e5"
      },
      "execution_count": 5,
      "outputs": [
        {
          "output_type": "stream",
          "name": "stdout",
          "text": [
            "iNeuron\n"
          ]
        }
      ]
    },
    {
      "cell_type": "markdown",
      "source": [
        "\n",
        "\n",
        "3. What does this code print, and why?\n",
        "\n",
        "&gt;&gt;&gt; X = &#39;iNeuron&#39;\n",
        "&gt;&gt;&gt; def func():\n",
        "X = &#39;NI&#39;\n",
        "print(X)\n",
        "\n",
        "&gt;&gt;&gt; func()\n",
        "&gt;&gt;&gt; print(X)"
      ],
      "metadata": {
        "id": "1M5HAtHhxT7d"
      }
    },
    {
      "cell_type": "code",
      "source": [
        "X = 'iNeuron' \n",
        "def func(): \n",
        "  X = 'NI'\n",
        "  print(X)\n",
        "func()\n",
        "print(X)\n",
        "#Same Reason as above"
      ],
      "metadata": {
        "colab": {
          "base_uri": "https://localhost:8080/"
        },
        "id": "YPm2azZCxUoj",
        "outputId": "49038f2e-de07-49d9-e29d-1bd73484e0e2"
      },
      "execution_count": 7,
      "outputs": [
        {
          "output_type": "stream",
          "name": "stdout",
          "text": [
            "NI\n",
            "iNeuron\n"
          ]
        }
      ]
    },
    {
      "cell_type": "markdown",
      "source": [
        "\n",
        "\n",
        "\n",
        "4. What output does this code produce? Why?\n",
        "\n",
        "&gt;&gt;&gt; X = &#39;iNeuron&#39;\n",
        "&gt;&gt;&gt; def func():\n",
        "global X\n",
        "X = &#39;NI&#39;\n",
        "\n",
        "&gt;&gt;&gt; func()\n",
        "&gt;&gt;&gt; print(X)"
      ],
      "metadata": {
        "id": "E933YqS5xeuD"
      }
    },
    {
      "cell_type": "code",
      "source": [
        "X = 'iNeuron' \n",
        "def func(): \n",
        "  global X \n",
        "  X = 'NI'\n",
        "  print(X)\n",
        "func()\n",
        "print(X)\n",
        "# because we declare X as global, global value of X is getting updated"
      ],
      "metadata": {
        "colab": {
          "base_uri": "https://localhost:8080/"
        },
        "id": "vuS_jHRZxfXc",
        "outputId": "737ea3cd-8058-4ca3-fc4d-d8391fb93899"
      },
      "execution_count": 10,
      "outputs": [
        {
          "output_type": "stream",
          "name": "stdout",
          "text": [
            "NI\n",
            "NI\n"
          ]
        }
      ]
    },
    {
      "cell_type": "markdown",
      "source": [
        "5. What about this code—what’s the output, and why?\n",
        "\n",
        "&gt;&gt;&gt; X = &#39;iNeuron&#39;\n",
        "&gt;&gt;&gt; def func():\n",
        "X = &#39;NI&#39;\n",
        "def nested():\n",
        "print(X)\n",
        "nested()\n",
        "\n",
        "&gt;&gt;&gt; func()\n",
        "&gt;&gt;&gt; X"
      ],
      "metadata": {
        "id": "z3IMToeUyGjn"
      }
    },
    {
      "cell_type": "code",
      "source": [
        "X = 'iNeuron' \n",
        "def func(): \n",
        "  X = 'NI'\n",
        "  def nested():\n",
        "    print(X)\n",
        "  nested()\n",
        "func()\n"
      ],
      "metadata": {
        "colab": {
          "base_uri": "https://localhost:8080/"
        },
        "id": "uFeP83JKyHaU",
        "outputId": "b1d21b78-d5be-4192-9037-9da444c0f5f8"
      },
      "execution_count": 11,
      "outputs": [
        {
          "output_type": "stream",
          "name": "stdout",
          "text": [
            "NI\n"
          ]
        }
      ]
    },
    {
      "cell_type": "markdown",
      "source": [
        "\n",
        "\n",
        "\n",
        "\n",
        "6. How about this code: what is its output in Python 3, and explain?\n",
        "\n",
        "&gt;&gt;&gt; def func():\n",
        "X = &#39;NI&#39;\n",
        "def nested():\n",
        "nonlocal X\n",
        "X = &#39;Spam&#39;\n",
        "nested()\n",
        "print(X)\n",
        "\n",
        "&gt;&gt;&gt; func()"
      ],
      "metadata": {
        "id": "3gMkADlywjkf"
      }
    },
    {
      "cell_type": "code",
      "source": [
        "X = 'iNeuron' \n",
        "def func(): \n",
        "  X = 'NI'\n",
        "  def nested():\n",
        "    nonlocal X\n",
        "    X = 'Spam'\n",
        "  nested()\n",
        "  print(X)\n",
        "  nested()\n",
        "func()"
      ],
      "metadata": {
        "colab": {
          "base_uri": "https://localhost:8080/"
        },
        "id": "RiMAMeAtyVW0",
        "outputId": "2c7c458f-353e-40e6-d3d6-58d6accc25e3"
      },
      "execution_count": 12,
      "outputs": [
        {
          "output_type": "stream",
          "name": "stdout",
          "text": [
            "Spam\n"
          ]
        }
      ]
    }
  ]
}