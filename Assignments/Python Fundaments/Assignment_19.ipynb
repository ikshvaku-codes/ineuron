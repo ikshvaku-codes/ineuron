{
  "nbformat": 4,
  "nbformat_minor": 0,
  "metadata": {
    "colab": {
      "provenance": []
    },
    "kernelspec": {
      "name": "python3",
      "display_name": "Python 3"
    },
    "language_info": {
      "name": "python"
    }
  },
  "cells": [
    {
      "cell_type": "markdown",
      "source": [
        "1. Make a class called Thing with no contents and print it. Then, create an object called example\n",
        "from this class and also print it. Are the printed values the same or different?"
      ],
      "metadata": {
        "id": "Y6U4Erslp_Q1"
      }
    },
    {
      "cell_type": "code",
      "source": [
        "class Thing:\n",
        "  pass\n",
        "\n",
        "example = Thing()\n",
        "\n",
        "print(Thing)\n",
        "print(example)\n",
        "# We can see that printed values are different"
      ],
      "metadata": {
        "colab": {
          "base_uri": "https://localhost:8080/"
        },
        "id": "ja-NuAgMqAc2",
        "outputId": "04c2b4eb-6fa3-4c83-a77b-1e0f2febefa1"
      },
      "execution_count": 2,
      "outputs": [
        {
          "output_type": "stream",
          "name": "stdout",
          "text": [
            "<class '__main__.Thing'>\n",
            "<__main__.Thing object at 0x7f5673c522c0>\n"
          ]
        }
      ]
    },
    {
      "cell_type": "markdown",
      "source": [
        "2. Create a new class called Thing2 and add the value &#39;abc&#39; to the letters class attribute. Letters\n",
        "should be printed."
      ],
      "metadata": {
        "id": "ZvCJkXLuqXsW"
      }
    },
    {
      "cell_type": "code",
      "source": [
        "class Thing2:\n",
        "  letters = 'abc'\n",
        "\n",
        "Thing2.letters"
      ],
      "metadata": {
        "colab": {
          "base_uri": "https://localhost:8080/",
          "height": 36
        },
        "id": "vEY2IVFGqYXX",
        "outputId": "13368145-fdf0-4967-f7b1-ffc48c8ab90f"
      },
      "execution_count": 4,
      "outputs": [
        {
          "output_type": "execute_result",
          "data": {
            "text/plain": [
              "'abc'"
            ],
            "application/vnd.google.colaboratory.intrinsic+json": {
              "type": "string"
            }
          },
          "metadata": {},
          "execution_count": 4
        }
      ]
    },
    {
      "cell_type": "markdown",
      "source": [
        "3. Make yet another class called, of course, Thing3. This time, assign the value &#39;xyz&#39; to an instance\n",
        "(object) attribute called letters. Print letters. Do you need to make an object from the class to do\n",
        "this?"
      ],
      "metadata": {
        "id": "ozq7dJJgqxRt"
      }
    },
    {
      "cell_type": "code",
      "source": [
        "class Thing3:\n",
        "  def __init__(self):\n",
        "    self.letters = 'xyz'\n",
        "\n",
        "objThing3 = Thing3()\n",
        "objThing3.letters\n",
        "#Yes we need to call the object."
      ],
      "metadata": {
        "colab": {
          "base_uri": "https://localhost:8080/",
          "height": 36
        },
        "id": "XVU0ileKqx3u",
        "outputId": "c0ad2e4d-0ed2-4b04-8c8b-db82029c77bf"
      },
      "execution_count": 9,
      "outputs": [
        {
          "output_type": "execute_result",
          "data": {
            "text/plain": [
              "'xyz'"
            ],
            "application/vnd.google.colaboratory.intrinsic+json": {
              "type": "string"
            }
          },
          "metadata": {},
          "execution_count": 9
        }
      ]
    },
    {
      "cell_type": "markdown",
      "source": [
        "4. Create an Element class with the instance attributes name, symbol, and number. Create a class\n",
        "object with the values &#39;Hydrogen,&#39; &#39;H,&#39; and 1."
      ],
      "metadata": {
        "id": "4Xwq2r5NrqXD"
      }
    },
    {
      "cell_type": "code",
      "source": [
        "class Element:\n",
        "  def __init__(self, name, symbol, number):\n",
        "    self.name = name\n",
        "    self.symbol = symbol\n",
        "    self.number = number\n",
        "\n",
        "objEle = Element('Hydrogen', 'H' , 1)"
      ],
      "metadata": {
        "id": "uy7tiC1ZrrDY"
      },
      "execution_count": 13,
      "outputs": []
    },
    {
      "cell_type": "markdown",
      "source": [
        "5. Make a dictionary with these keys and values: &#39;name&#39;: &#39;Hydrogen&#39;, &#39;symbol&#39;: &#39;H&#39;, &#39;number&#39;: 1. Then,\n",
        "create an object called hydrogen from class Element using this dictionary."
      ],
      "metadata": {
        "id": "7ucauZVAr9hw"
      }
    },
    {
      "cell_type": "code",
      "source": [
        "dictEle = { 'name': 'Hydrogen', 'symbol': 'H', 'number': 1}\n",
        "\n",
        "Hydrogen = Element(**dictEle)\n"
      ],
      "metadata": {
        "id": "ucMWb8b9r-TG"
      },
      "execution_count": 16,
      "outputs": []
    },
    {
      "cell_type": "markdown",
      "source": [
        "\n",
        "\n",
        "\n",
        "\n",
        "\n",
        "6. For the Element class, define a method called dump() that prints the values of the object’s\n",
        "attributes (name, symbol, and number). Create the hydrogen object from this new definition and\n",
        "use dump() to print its attributes."
      ],
      "metadata": {
        "id": "dwaEz36qtkDs"
      }
    },
    {
      "cell_type": "code",
      "source": [
        "class Element:\n",
        "    def __init__(self,name,symbol,number):\n",
        "        self.name = name\n",
        "        self.symbol = symbol\n",
        "        self.number = number\n",
        "    def dump(self):\n",
        "        print(self.name,self.symbol,self.number)\n",
        "hydrogen = Element(**dictEle)\n",
        "hydrogen.dump()\n",
        "    "
      ],
      "metadata": {
        "colab": {
          "base_uri": "https://localhost:8080/"
        },
        "id": "mWh5bHU9tk1H",
        "outputId": "fe8c8401-2742-4d70-9948-e44d1e997758"
      },
      "execution_count": 24,
      "outputs": [
        {
          "output_type": "stream",
          "name": "stdout",
          "text": [
            "Hydrogen H 1\n"
          ]
        }
      ]
    },
    {
      "cell_type": "markdown",
      "source": [
        "7. Call print(hydrogen). In the definition of Element, change the name of method dump to __str__,\n",
        "create a new hydrogen object, and call print(hydrogen) again."
      ],
      "metadata": {
        "id": "Yy0c_PdEt5yw"
      }
    },
    {
      "cell_type": "code",
      "source": [
        "print(hydrogen)\n",
        "class Element:\n",
        "    def __init__(self,name,symbol,number):\n",
        "        self.name = name\n",
        "        self.symbol = symbol\n",
        "        self.number = number\n",
        "    def __str__(self):\n",
        "        return  self.name+\", \"+self.symbol+\", \"+str(self.number)\n",
        "hydrogen = Element(**dictEle)\n",
        "print(hydrogen)"
      ],
      "metadata": {
        "colab": {
          "base_uri": "https://localhost:8080/"
        },
        "id": "sjvN3R1wt6mQ",
        "outputId": "9be318a3-8c4e-472c-e6b1-1b4d321f9b35"
      },
      "execution_count": 25,
      "outputs": [
        {
          "output_type": "stream",
          "name": "stdout",
          "text": [
            "<__main__.Element object at 0x7f5646561d50>\n",
            "Hydrogen, H, 1\n"
          ]
        }
      ]
    },
    {
      "cell_type": "markdown",
      "source": [
        "\n",
        "8. Modify Element to make the attributes name, symbol, and number private. Define a getter\n",
        "property for each to return its value."
      ],
      "metadata": {
        "id": "U4xXjVIDupmc"
      }
    },
    {
      "cell_type": "code",
      "source": [
        "class Element:\n",
        "  def __init__(self,name,symbol,number):\n",
        "    self._name = name\n",
        "    self._symbol = symbol\n",
        "    self._number = number\n",
        "  def getName(self):\n",
        "    return self.name\n",
        "  def getNumber(self):\n",
        "    return self.number\n",
        "  def getSymbol(self):\n",
        "    return self.symbol\n"
      ],
      "metadata": {
        "id": "chR0_1z9uqJA"
      },
      "execution_count": 26,
      "outputs": []
    },
    {
      "cell_type": "markdown",
      "source": [
        "9. Define three classes: Bear, Rabbit, and Octothorpe. For each, define only one method: eats(). This\n",
        "should return &#39;berries&#39; (Bear), &#39;clover&#39; (Rabbit), or &#39;campers&#39; (Octothorpe). Create one object from\n",
        "each and print what it eats."
      ],
      "metadata": {
        "id": "8MKXjcJwvN39"
      }
    },
    {
      "cell_type": "code",
      "source": [
        "\n",
        "class Bear:\n",
        "  def eat(self):\n",
        "    return 'berries'\n",
        "class Rabbit:\n",
        "  def eat(self):\n",
        "    return 'clover'\n",
        "class Octothorpe:\n",
        "  def eat(self):\n",
        "    return 'campers'\n",
        "\n",
        "bear = Bear()\n",
        "print(bear.eat())\n",
        "rabbit = Rabbit()\n",
        "print(rabbit.eat())\n",
        "octothorpe = Octothorpe()\n",
        "print(octothorpe.eat())"
      ],
      "metadata": {
        "colab": {
          "base_uri": "https://localhost:8080/"
        },
        "id": "cbc4aNxdvOeG",
        "outputId": "9ed23f7f-5f8c-498e-f90b-22ec820d8323"
      },
      "execution_count": 28,
      "outputs": [
        {
          "output_type": "stream",
          "name": "stdout",
          "text": [
            "berries\n",
            "clover\n",
            "campers\n"
          ]
        }
      ]
    },
    {
      "cell_type": "markdown",
      "source": [
        "\n",
        "\n",
        "\n",
        "10. Define these classes: Laser, Claw, and SmartPhone. Each has only one method: does(). This\n",
        "returns &#39;disintegrate&#39; (Laser), &#39;crush&#39; (Claw), or &#39;ring&#39; (SmartPhone). Then, define the class Robot that\n",
        "has one instance (object) of each of these. Define a does() method for the Robot that prints what its\n",
        "component objects do."
      ],
      "metadata": {
        "id": "aq7dWJLvp7m3"
      }
    },
    {
      "cell_type": "code",
      "source": [
        "class Laser:\n",
        "  def does(self):\n",
        "    return \"disintegrate\"\n",
        "class Claw:\n",
        "  def does(self):\n",
        "    return \"crush\"\n",
        "class SmartPhone:\n",
        "  def does(self):\n",
        "    return \"ring\"\n",
        "\n",
        "class Robot():\n",
        "  def __init__(self):\n",
        "    self.laser = Laser()\n",
        "    self.claw = Claw()\n",
        "    self.smartPhone = SmartPhone()\n",
        "\n",
        "  def does(self):\n",
        "    print(f\"Laser: {self.laser.does()},\\nClaw: {self.claw.does()},\\nSmartPhone{self.smartPhone.does()}\")\n",
        "\n",
        "robot = Robot()\n",
        "robot.does()"
      ],
      "metadata": {
        "colab": {
          "base_uri": "https://localhost:8080/"
        },
        "id": "Xy4u4NhwwFRJ",
        "outputId": "312efa5e-5a1c-4f1c-c413-9ee8caa95fe4"
      },
      "execution_count": 30,
      "outputs": [
        {
          "output_type": "stream",
          "name": "stdout",
          "text": [
            "Laser: disintegrate,\n",
            "Claw: crush,\n",
            "SmartPhonering\n"
          ]
        }
      ]
    }
  ]
}