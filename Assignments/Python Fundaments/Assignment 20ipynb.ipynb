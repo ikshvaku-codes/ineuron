{
  "nbformat": 4,
  "nbformat_minor": 0,
  "metadata": {
    "colab": {
      "provenance": []
    },
    "kernelspec": {
      "name": "python3",
      "display_name": "Python 3"
    },
    "language_info": {
      "name": "python"
    }
  },
  "cells": [
    {
      "cell_type": "markdown",
      "source": [
        "1. Set the variable test1 to the string &#39;This is a test of the emergency text system,&#39; and save test1 to a\n",
        "file named test.txt."
      ],
      "metadata": {
        "id": "OGG4H3AvGqfz"
      }
    },
    {
      "cell_type": "code",
      "source": [
        "test1 = 'This is a test of the emergency text system'\n",
        "fileWithPath = \"test.txt\"\n",
        "with open(fileWithPath, 'w') as f:\n",
        "  f.write(test1)"
      ],
      "metadata": {
        "id": "PO4HK6N-GsLX"
      },
      "execution_count": 1,
      "outputs": []
    },
    {
      "cell_type": "markdown",
      "source": [
        "\n",
        "2. Read the contents of the file test.txt into the variable test2. Is there a difference between test 1\n",
        "and test 2?"
      ],
      "metadata": {
        "id": "G9mDBxbSHI_i"
      }
    },
    {
      "cell_type": "code",
      "source": [
        "test2 = ''\n",
        "with open(fileWithPath, 'r') as f:\n",
        "  test2 = f.read()\n",
        "\n",
        "print(f'test1 and test are equal {test1 == test2}')"
      ],
      "metadata": {
        "colab": {
          "base_uri": "https://localhost:8080/"
        },
        "id": "XjWJL1tRHJvN",
        "outputId": "01e8a717-c58c-4eba-d355-baa6e670ad4b"
      },
      "execution_count": 2,
      "outputs": [
        {
          "output_type": "stream",
          "name": "stdout",
          "text": [
            "test1 and test are equal True\n"
          ]
        }
      ]
    },
    {
      "cell_type": "markdown",
      "source": [
        "\n",
        "3. Create a CSV file called books.csv by using these lines:\n",
        "title,author,year\n",
        "The Weirdstone of Brisingamen,Alan Garner,1960\n",
        "Perdido Street Station,China Miéville,2000\n",
        "Thud!,Terry Pratchett,2005\n",
        "The Spellman Files,Lisa Lutz,2007\n",
        "Small Gods,Terry Pratchett,1992"
      ],
      "metadata": {
        "id": "Anb7k4_YHhEn"
      }
    },
    {
      "cell_type": "code",
      "source": [
        "lines = \"title,author,year\\nThe Weirdstone of Brisingamen,Alan Garner,1960\\nPerdido Street Station,China Miéville,2000\\nThud!,Terry Pratchett,2005\\nThe Spellman Files,Lisa Lutz,2007\\nSmall Gods,Terry Pratchett,1992\"\n",
        "booksCsv = \"books.csv\"\n",
        "with open(booksCsv, 'w') as f:\n",
        "  f.write(lines)"
      ],
      "metadata": {
        "id": "--fW6sV9HiBH"
      },
      "execution_count": 8,
      "outputs": []
    },
    {
      "cell_type": "markdown",
      "source": [
        "4. Use the sqlite3 module to create a SQLite database called books.db, and a table called books with\n",
        "these fields: title (text), author (text), and year (integer)."
      ],
      "metadata": {
        "id": "5Sj6EHr1ISBK"
      }
    },
    {
      "cell_type": "code",
      "source": [
        "import sqlite3\n",
        "conn = sqlite3.connect('books.db')\n",
        "query = \"\"\"\n",
        "          CREATE TABLE books(\n",
        "            title text,\n",
        "            author text,\n",
        "            year int\n",
        "          )\n",
        "        \"\"\"\n",
        "conn.execute(query)"
      ],
      "metadata": {
        "colab": {
          "base_uri": "https://localhost:8080/"
        },
        "id": "9H8fPuX1ITGN",
        "outputId": "c872dbf4-4515-41b3-caa7-d806bc4fb2ad"
      },
      "execution_count": 23,
      "outputs": [
        {
          "output_type": "execute_result",
          "data": {
            "text/plain": [
              "<sqlite3.Cursor at 0x7febb2323d40>"
            ]
          },
          "metadata": {},
          "execution_count": 23
        }
      ]
    },
    {
      "cell_type": "markdown",
      "source": [
        "5. Read books.csv and insert its data into the book table.\n"
      ],
      "metadata": {
        "id": "tVAhjU-KJK8P"
      }
    },
    {
      "cell_type": "code",
      "source": [
        "import pandas as pd\n",
        "booksDf = pd.read_csv(booksCsv)\n",
        "for row in booksDf.index:\n",
        "  title = booksDf['title'][row]\n",
        "  author = booksDf['author'][row]\n",
        "  year = booksDf['year'][row]\n",
        "  conn.execute(f'insert into books(title, author, year) \\\n",
        "                 values(\\'{title}\\', \\'{author}\\', {year})')\n"
      ],
      "metadata": {
        "id": "rGrLhwFCJLiu"
      },
      "execution_count": 25,
      "outputs": []
    },
    {
      "cell_type": "markdown",
      "source": [
        "6. Select and print the title column from the book table in alphabetical order."
      ],
      "metadata": {
        "id": "RP2fd3g6KpTU"
      }
    },
    {
      "cell_type": "code",
      "source": [
        "selectQuery = \"Select title from books order By title\"\n",
        "out = conn.execute(selectQuery)\n",
        "\n",
        "for row in out:\n",
        "  print(row[0])"
      ],
      "metadata": {
        "colab": {
          "base_uri": "https://localhost:8080/"
        },
        "id": "h4oRvsOeKqRn",
        "outputId": "915865e0-2e7d-42f9-b5b3-52a664a00b13"
      },
      "execution_count": 29,
      "outputs": [
        {
          "output_type": "stream",
          "name": "stdout",
          "text": [
            "Perdido Street Station\n",
            "Small Gods\n",
            "The Spellman Files\n",
            "The Weirdstone of Brisingamen\n",
            "Thud!\n"
          ]
        }
      ]
    },
    {
      "cell_type": "markdown",
      "source": [
        "7. From the book table, select and print all columns in the order of publication."
      ],
      "metadata": {
        "id": "YsNhMDKwM5Z-"
      }
    },
    {
      "cell_type": "code",
      "source": [
        "selectQuery = \"select * from books order by year\"\n",
        "out = conn.execute(selectQuery)\n",
        "for row in out:\n",
        "  print(f\"{row[0]} {row[1]} {row[2]}\")"
      ],
      "metadata": {
        "colab": {
          "base_uri": "https://localhost:8080/"
        },
        "id": "4Eo2T7kJM6k9",
        "outputId": "65fc7a00-13e9-4880-eda4-604c22c338a5"
      },
      "execution_count": 30,
      "outputs": [
        {
          "output_type": "stream",
          "name": "stdout",
          "text": [
            "The Weirdstone of Brisingamen Alan Garner 1960\n",
            "Small Gods Terry Pratchett 1992\n",
            "Perdido Street Station China Miéville 2000\n",
            "Thud! Terry Pratchett 2005\n",
            "The Spellman Files Lisa Lutz 2007\n"
          ]
        }
      ]
    },
    {
      "cell_type": "markdown",
      "source": [
        "8. Use the sqlalchemy module to connect to the sqlite3 database books.db that you just made in\n",
        "exercise 6.\n",
        "\n",
        "\n"
      ],
      "metadata": {
        "id": "Q7MbWwRRNu_z"
      }
    },
    {
      "cell_type": "code",
      "source": [
        "import sqlalchemy\n",
        "from sqlalchemy import create_engine\n",
        "from sqlalchemy import Table, Column, Integer, String, MetaData, ForeignKey\n",
        "from sqlalchemy import inspect, text\n",
        "engine = sqlalchemy.create_engine(\"sqlite:////content/books.db\")\n",
        "with engine.connect() as con:\n",
        "  rows = con.execute(text('SELECT * FROM books'))\n",
        "  for i in rows:\n",
        "      print(i)"
      ],
      "metadata": {
        "id": "K4NPV6XjNvtt"
      },
      "execution_count": 40,
      "outputs": []
    },
    {
      "cell_type": "markdown",
      "source": [
        "9. Install the Redis server and the Python redis library (pip install redis) on your computer. Create a\n",
        "Redis hash called test with the fields count (1) and name (&#39;Fester Bestertester&#39;). Print all the fields for\n",
        "test."
      ],
      "metadata": {
        "id": "abW8ppKOS3SL"
      }
    },
    {
      "cell_type": "code",
      "source": [
        "! pip install redis"
      ],
      "metadata": {
        "colab": {
          "base_uri": "https://localhost:8080/"
        },
        "id": "eM86noJKS4O5",
        "outputId": "d3ea2c11-6e7b-4e66-92a6-363faa87a45f"
      },
      "execution_count": 42,
      "outputs": [
        {
          "output_type": "stream",
          "name": "stdout",
          "text": [
            "Looking in indexes: https://pypi.org/simple, https://us-python.pkg.dev/colab-wheels/public/simple/\n",
            "Collecting redis\n",
            "  Downloading redis-4.5.5-py3-none-any.whl (240 kB)\n",
            "\u001b[2K     \u001b[90m━━━━━━━━━━━━━━━━━━━━━━━━━━━━━━━━━━━━━━━\u001b[0m \u001b[32m240.3/240.3 kB\u001b[0m \u001b[31m5.1 MB/s\u001b[0m eta \u001b[36m0:00:00\u001b[0m\n",
            "\u001b[?25hCollecting async-timeout>=4.0.2 (from redis)\n",
            "  Downloading async_timeout-4.0.2-py3-none-any.whl (5.8 kB)\n",
            "Installing collected packages: async-timeout, redis\n",
            "Successfully installed async-timeout-4.0.2 redis-4.5.5\n"
          ]
        }
      ]
    },
    {
      "cell_type": "code",
      "source": [
        "\n",
        "import redis\n",
        "conn = redis.Redis()\n",
        "conn.delete('test')\n",
        "conn.hmset('test', {'count': 1, 'name': 'Fester Bestertester'})\n",
        "conn.hgetall('test')"
      ],
      "metadata": {
        "id": "PIJwKYTlTBe-"
      },
      "execution_count": null,
      "outputs": []
    },
    {
      "cell_type": "markdown",
      "source": [
        "\n",
        "\n",
        "\n",
        "\n",
        "\n",
        "10. Increment the count field of test and print it."
      ],
      "metadata": {
        "id": "0KzK9rwWGmJJ"
      }
    },
    {
      "cell_type": "code",
      "source": [
        "conn.hincrby('test','count', 3)"
      ],
      "metadata": {
        "id": "7ay8QZQxUvWp"
      },
      "execution_count": null,
      "outputs": []
    }
  ]
}