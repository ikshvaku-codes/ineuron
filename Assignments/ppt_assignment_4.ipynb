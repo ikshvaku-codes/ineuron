{
  "nbformat": 4,
  "nbformat_minor": 0,
  "metadata": {
    "colab": {
      "provenance": []
    },
    "kernelspec": {
      "name": "python3",
      "display_name": "Python 3"
    },
    "language_info": {
      "name": "python"
    }
  },
  "cells": [
    {
      "cell_type": "markdown",
      "source": [
        "<aside>\n",
        "💡 **Question 1**\n",
        "Given three integer arrays arr1, arr2 and arr3 **sorted** in **strictly increasing** order, return a sorted array of **only** the integers that appeared in **all** three arrays.\n",
        "\n",
        "**Example 1:**\n",
        "\n",
        "Input: arr1 = [1,2,3,4,5], arr2 = [1,2,5,7,9], arr3 = [1,3,4,5,8]\n",
        "\n",
        "Output: [1,5]\n",
        "\n",
        "**Explanation:** Only 1 and 5 appeared in the three arrays.\n",
        "\n",
        "</aside>"
      ],
      "metadata": {
        "id": "y9Zd5ZBdw8iv"
      }
    },
    {
      "cell_type": "code",
      "execution_count": null,
      "metadata": {
        "id": "9oqZy5FFw7cs"
      },
      "outputs": [],
      "source": [
        "def appearInAll(arr1:list(), arr2:list(), arr3:list())->list():\n",
        "  m = len(arr1)\n",
        "  n = len(arr2)\n",
        "  o = len(arr3)\n",
        "  i =j =k = 0\n",
        "  output = []\n",
        "  while i<m and j<n and k<o:\n",
        "    first = arr1[i]\n",
        "    second = arr2[j]\n",
        "    third = arr3[k]\n",
        "\n",
        "    if first == second == third:\n",
        "      output.append(first)\n",
        "      i+=1\n",
        "      j+=1\n",
        "      k+=1\n",
        "    if first < second:\n",
        "      i+=1\n",
        "    elif second < third:\n",
        "      j+=1\n",
        "    elif third < first:\n",
        "      k+=1\n",
        "    elif first > second:\n",
        "      j+=1\n",
        "    elif second > third:\n",
        "      k+=1\n",
        "    elif third > first:\n",
        "      i+=1\n",
        "  return output\n"
      ]
    },
    {
      "cell_type": "code",
      "source": [
        "arr1 = [1,2,3,4,5]\n",
        "arr2 = [1,2,5,7,9]\n",
        "arr3 = [1,3,4,5,8]\n",
        "\n",
        "appearInAll(arr1,arr2,arr3)"
      ],
      "metadata": {
        "colab": {
          "base_uri": "https://localhost:8080/"
        },
        "id": "nafO9RFIzAep",
        "outputId": "665e101e-7906-4d51-9e44-3fbe7287333a"
      },
      "execution_count": null,
      "outputs": [
        {
          "output_type": "execute_result",
          "data": {
            "text/plain": [
              "[1, 5]"
            ]
          },
          "metadata": {},
          "execution_count": 10
        }
      ]
    },
    {
      "cell_type": "markdown",
      "source": [
        "<aside>\n",
        "💡 **Question 2**\n",
        "\n",
        "Given two **0-indexed** integer arrays nums1 and nums2, return *a list* answer *of size* 2 *where:*\n",
        "\n",
        "- answer[0] *is a list of all **distinct** integers in* nums1 *which are **not** present in* nums2*.*\n",
        "- answer[1] *is a list of all **distinct** integers in* nums2 *which are **not** present in* nums1.\n",
        "\n",
        "**Note** that the integers in the lists may be returned in **any** order.\n",
        "\n",
        "**Example 1:**\n",
        "\n",
        "**Input:** nums1 = [1,2,3], nums2 = [2,4,6]\n",
        "\n",
        "**Output:** [[1,3],[4,6]]\n",
        "\n",
        "**Explanation:**\n",
        "\n",
        "For nums1, nums1[1] = 2 is present at index 0 of nums2, whereas nums1[0] = 1 and nums1[2] = 3 are not present in nums2. Therefore, answer[0] = [1,3].\n",
        "\n",
        "For nums2, nums2[0] = 2 is present at index 1 of nums1, whereas nums2[1] = 4 and nums2[2] = 6 are not present in nums2. Therefore, answer[1] = [4,6].\n",
        "\n",
        "</aside>"
      ],
      "metadata": {
        "id": "tMiTrMQAzipk"
      }
    },
    {
      "cell_type": "code",
      "source": [
        "def returnDifference(arr1:list(), arr2:list())->list():\n",
        "  return [list(set(arr1).difference(set(arr2))), list(set(arr2).difference(set(arr1)))]"
      ],
      "metadata": {
        "id": "CVrlf12Dzp9s"
      },
      "execution_count": null,
      "outputs": []
    },
    {
      "cell_type": "code",
      "source": [
        "returnDifference([1,2,3],[2,6,4])"
      ],
      "metadata": {
        "colab": {
          "base_uri": "https://localhost:8080/"
        },
        "id": "O7-QmNDJ0f0W",
        "outputId": "199895c4-dd1a-451d-fcfa-9f3145d8f691"
      },
      "execution_count": null,
      "outputs": [
        {
          "output_type": "execute_result",
          "data": {
            "text/plain": [
              "[[1, 3], [4, 6]]"
            ]
          },
          "metadata": {},
          "execution_count": 15
        }
      ]
    },
    {
      "cell_type": "markdown",
      "source": [
        "<aside>\n",
        "💡 **Question 3**\n",
        "Given a 2D integer array matrix, return *the **transpose** of* matrix.\n",
        "\n",
        "The **transpose** of a matrix is the matrix flipped over its main diagonal, switching the matrix's row and column indices.\n",
        "\n",
        "**Example 1:**\n",
        "\n",
        "Input: matrix = [[1,2,3],[4,5,6],[7,8,9]]\n",
        "\n",
        "Output: [[1,4,7],[2,5,8],[3,6,9]]\n",
        "\n",
        "</aside>"
      ],
      "metadata": {
        "id": "5KQka_vj0_x8"
      }
    },
    {
      "cell_type": "code",
      "source": [
        "def transpose(nums:list())->list():\n",
        "  N = len(nums)\n",
        "  output = [[0 for i in range(0,N)] for j in range(0,N)]\n",
        "\n",
        "  for i in range(N):\n",
        "    for j in range(i+1, N):\n",
        "      nums[i][j], nums[j][i] = nums[j][i], nums[i][j]\n",
        "  return nums\n"
      ],
      "metadata": {
        "id": "Q1y1xvGKDxpb"
      },
      "execution_count": 8,
      "outputs": []
    },
    {
      "cell_type": "code",
      "source": [
        "transpose([[1,2,3],[4,5,6],[7,8,9]])"
      ],
      "metadata": {
        "colab": {
          "base_uri": "https://localhost:8080/"
        },
        "id": "oqsarfovFJjD",
        "outputId": "dc804342-40ba-4696-f145-67b01070060f"
      },
      "execution_count": 9,
      "outputs": [
        {
          "output_type": "execute_result",
          "data": {
            "text/plain": [
              "[[1, 4, 7], [2, 5, 8], [3, 6, 9]]"
            ]
          },
          "metadata": {},
          "execution_count": 9
        }
      ]
    },
    {
      "cell_type": "markdown",
      "source": [
        "<aside>\n",
        "💡 **Question 4**\n",
        "Given an integer array nums of 2n integers, group these integers into n pairs (a1, b1), (a2, b2), ..., (an, bn) such that the sum of min(ai, bi) for all i is **maximized**. Return *the maximized sum*.\n",
        "\n",
        "**Example 1:**\n",
        "\n",
        "Input: nums = [1,4,3,2]\n",
        "\n",
        "Output: 4\n",
        "\n",
        "**Explanation:** All possible pairings (ignoring the ordering of elements) are:\n",
        "\n",
        "1. (1, 4), (2, 3) -> min(1, 4) + min(2, 3) = 1 + 2 = 3\n",
        "\n",
        "2. (1, 3), (2, 4) -> min(1, 3) + min(2, 4) = 1 + 2 = 3\n",
        "\n",
        "3. (1, 2), (3, 4) -> min(1, 2) + min(3, 4) = 1 + 3 = 4\n",
        "\n",
        "So the maximum possible sum is 4.\n",
        "\n",
        "</aside>"
      ],
      "metadata": {
        "id": "EoYdSLy2GFh-"
      }
    },
    {
      "cell_type": "code",
      "source": [
        "def maximizedSum(nums:list())->int():\n",
        "  sortedNums = nums\n",
        "  sortedNums.sort()\n",
        "  output = 0\n",
        "  for i in range(0,len(sortedNums)):\n",
        "    if i%2 == 0:\n",
        "      output+=sortedNums[i]\n",
        "  return output"
      ],
      "metadata": {
        "id": "MxdUlXBuGJfW"
      },
      "execution_count": 10,
      "outputs": []
    },
    {
      "cell_type": "code",
      "source": [
        "maximizedSum([1,4,3,2])"
      ],
      "metadata": {
        "colab": {
          "base_uri": "https://localhost:8080/"
        },
        "id": "espeyBGeGjSB",
        "outputId": "e26b7abf-b92f-43be-cca6-8be95ad7d10c"
      },
      "execution_count": 11,
      "outputs": [
        {
          "output_type": "execute_result",
          "data": {
            "text/plain": [
              "4"
            ]
          },
          "metadata": {},
          "execution_count": 11
        }
      ]
    },
    {
      "cell_type": "markdown",
      "source": [
        "<aside>\n",
        "💡 **Question 5**\n",
        "You have n coins and you want to build a staircase with these coins. The staircase consists of k rows where the ith row has exactly i coins. The last row of the staircase **may be** incomplete.\n",
        "\n",
        "Given the integer n, return *the number of **complete rows** of the staircase you will build*.\n",
        "\n",
        "**Input:** n = 5\n",
        "\n",
        "**Output:** 2\n",
        "\n",
        "**Explanation:** Because the 3rd row is incomplete, we return 2.\n",
        "\n",
        "</aside>"
      ],
      "metadata": {
        "id": "OK_tLKgXGo76"
      }
    },
    {
      "cell_type": "code",
      "source": [
        "def completeRows(coins:int())->int():\n",
        "  i = 1\n",
        "  rows = 0\n",
        "  while coins>0:\n",
        "    i+=1\n",
        "    coins-=i\n",
        "    rows+=1\n",
        "\n",
        "  return rows"
      ],
      "metadata": {
        "id": "EEBl7NM2Gy03"
      },
      "execution_count": 12,
      "outputs": []
    },
    {
      "cell_type": "code",
      "source": [
        "completeRows(6)"
      ],
      "metadata": {
        "colab": {
          "base_uri": "https://localhost:8080/"
        },
        "id": "hfmliyVxIP6y",
        "outputId": "8caebe35-6c60-4823-915c-7ee911ba8905"
      },
      "execution_count": 14,
      "outputs": [
        {
          "output_type": "execute_result",
          "data": {
            "text/plain": [
              "3"
            ]
          },
          "metadata": {},
          "execution_count": 14
        }
      ]
    },
    {
      "cell_type": "markdown",
      "source": [
        "<aside>\n",
        "💡 **Question 6**\n",
        "Given an integer array nums sorted in **non-decreasing** order, return *an array of **the squares of each number** sorted in non-decreasing order*.\n",
        "\n",
        "**Example 1:**\n",
        "\n",
        "Input: nums = [-4,-1,0,3,10]\n",
        "\n",
        "Output: [0,1,9,16,100]\n",
        "\n",
        "**Explanation:** After squaring, the array becomes [16,1,0,9,100].\n",
        "After sorting, it becomes [0,1,9,16,100]\n",
        "\n",
        "</aside>"
      ],
      "metadata": {
        "id": "-r_USlttIXKn"
      }
    },
    {
      "cell_type": "code",
      "source": [
        "def squareSorted(nums:list())->list():\n",
        "  squared = [i**2 for i in nums]\n",
        "  squared.sort()\n",
        "  return squared"
      ],
      "metadata": {
        "id": "zBDOa-prIb2j"
      },
      "execution_count": 15,
      "outputs": []
    },
    {
      "cell_type": "code",
      "source": [
        "squareSorted([-4,-1,0,3,10])"
      ],
      "metadata": {
        "colab": {
          "base_uri": "https://localhost:8080/"
        },
        "id": "WP0QYyMPIyAg",
        "outputId": "3ad9f91c-dcb8-4cda-9b88-947f589f261c"
      },
      "execution_count": 17,
      "outputs": [
        {
          "output_type": "execute_result",
          "data": {
            "text/plain": [
              "[0, 1, 9, 16, 100]"
            ]
          },
          "metadata": {},
          "execution_count": 17
        }
      ]
    },
    {
      "cell_type": "markdown",
      "source": [
        "<aside>\n",
        "💡 **Question 7**\n",
        "You are given an m x n matrix M initialized with all 0's and an array of operations ops, where ops[i] = [ai, bi] means M[x][y] should be incremented by one for all 0 <= x < ai and 0 <= y < bi.\n",
        "\n",
        "Count and return *the number of maximum integers in the matrix after performing all the operations*\n",
        "\n",
        "**Example 1:**\n",
        "\n",
        "**Input:** m = 3, n = 3, ops = [[2,2],[3,3]]\n",
        "\n",
        "**Output:** 4\n",
        "\n",
        "**Explanation:** The maximum integer in M is 2, and there are four of it in M. So return 4.\n",
        "\n",
        "</aside>"
      ],
      "metadata": {
        "id": "QnaDlt3FI7vY"
      }
    },
    {
      "cell_type": "code",
      "source": [
        "def countInt(m:int(), n:int(), ops:list())->int():\n",
        "  for r,c in ops:\n",
        "    m = min(m,r)\n",
        "    n = min(c,n)\n",
        "  return m*n\n"
      ],
      "metadata": {
        "id": "os_LjfPKJFGT"
      },
      "execution_count": 18,
      "outputs": []
    },
    {
      "cell_type": "code",
      "source": [
        "countInt( m = 3, n = 3, ops = [[2,2],[3,3]])"
      ],
      "metadata": {
        "colab": {
          "base_uri": "https://localhost:8080/"
        },
        "id": "uZIix-UYKr4K",
        "outputId": "dd1375c9-a88e-4dd5-fca7-cffe10ad27e1"
      },
      "execution_count": 19,
      "outputs": [
        {
          "output_type": "execute_result",
          "data": {
            "text/plain": [
              "4"
            ]
          },
          "metadata": {},
          "execution_count": 19
        }
      ]
    },
    {
      "cell_type": "markdown",
      "source": [
        "Given the array nums consisting of 2n elements in the form [x1,x2,...,xn,y1,y2,...,yn].\n",
        "\n",
        "*Return the array in the form* [x1,y1,x2,y2,...,xn,yn].\n",
        "\n",
        "**Example 1:**\n",
        "\n",
        "**Input:** nums = [2,5,1,3,4,7], n = 3\n",
        "\n",
        "**Output:** [2,3,5,4,1,7]\n",
        "\n",
        "**Explanation:** Since x1=2, x2=5, x3=1, y1=3, y2=4, y3=7 then the answer is [2,3,5,4,1,7]."
      ],
      "metadata": {
        "id": "ZfIK_FK0Kwqp"
      }
    },
    {
      "cell_type": "code",
      "source": [
        "def rearrangeArr(nums:list(), n:int())->list():\n",
        "  eveList = [nums[i] for i in range(0, n) ]\n",
        "  oddList = [nums[i] for i in range(n, len(nums))]\n",
        "\n",
        "  output = []\n",
        "  j,k= 0,0\n",
        "  for i in range(0,2*n):\n",
        "    output.append(eveList[i//2] if i%2 == 0 else oddList[i//2])\n",
        "    # if i%2 == 0:\n",
        "    #   output.append(eveList[j])\n",
        "    #   j+=1\n",
        "    # else:\n",
        "    #   output.append(oddList[k])\n",
        "    #   k+=1\n",
        "\n",
        "\n",
        "  return output"
      ],
      "metadata": {
        "id": "GfTnCSv7KzqE"
      },
      "execution_count": 41,
      "outputs": []
    },
    {
      "cell_type": "code",
      "source": [
        "rearrangeArr(nums = [2,5,1,3,4,7], n = 3)"
      ],
      "metadata": {
        "colab": {
          "base_uri": "https://localhost:8080/"
        },
        "id": "jkmgxDKAMjsa",
        "outputId": "5143b7c9-3e7b-4b3b-a615-174c6d3b9cf8"
      },
      "execution_count": 42,
      "outputs": [
        {
          "output_type": "execute_result",
          "data": {
            "text/plain": [
              "[2, 3, 5, 4, 1, 7]"
            ]
          },
          "metadata": {},
          "execution_count": 42
        }
      ]
    }
  ]
}