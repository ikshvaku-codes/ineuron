{
  "nbformat": 4,
  "nbformat_minor": 0,
  "metadata": {
    "colab": {
      "provenance": []
    },
    "kernelspec": {
      "name": "python3",
      "display_name": "Python 3"
    },
    "language_info": {
      "name": "python"
    }
  },
  "cells": [
    {
      "cell_type": "markdown",
      "source": [
        "Question 1\n",
        "Given an integer array nums of 2n integers, group these integers into n pairs (a1, b1), (a2, b2),..., (an, bn) such that the sum of min(ai, bi) for all i is maximized. Return the maximized sum.\n",
        "\n",
        "**Example 1:**\n",
        "Input: nums = [1,4,3,2]\n",
        "Output: 4\n",
        "\n",
        "**Explanation:** All possible pairings (ignoring the ordering of elements) are:\n",
        "\n",
        "1. (1, 4), (2, 3) -> min(1, 4) + min(2, 3) = 1 + 2 = 3\n",
        "2. (1, 3), (2, 4) -> min(1, 3) + min(2, 4) = 1 + 2 = 3\n",
        "3. (1, 2), (3, 4) -> min(1, 2) + min(3, 4) = 1 + 3 = 4\n",
        "So the maximum possible sum is 4\n"
      ],
      "metadata": {
        "id": "AW6W08Znwxcx"
      }
    },
    {
      "cell_type": "code",
      "execution_count": 4,
      "metadata": {
        "id": "J6pBo3O6wrVo"
      },
      "outputs": [],
      "source": [
        "def maximizedSum(nums:list())->int():\n",
        "  sortedNums = nums\n",
        "  sortedNums.sort()\n",
        "  output = 0\n",
        "  for i in range(0,len(sortedNums)):\n",
        "    if i%2 == 0:\n",
        "      output+=sortedNums[i]\n",
        "  return output"
      ]
    },
    {
      "cell_type": "code",
      "source": [],
      "metadata": {
        "colab": {
          "base_uri": "https://localhost:8080/"
        },
        "id": "vIx--cXUxf5b",
        "outputId": "1e7bd4f9-76a1-4a00-e14b-27f88f2dce3a"
      },
      "execution_count": 6,
      "outputs": [
        {
          "output_type": "execute_result",
          "data": {
            "text/plain": [
              "8"
            ]
          },
          "metadata": {},
          "execution_count": 6
        }
      ]
    },
    {
      "cell_type": "markdown",
      "source": [
        "Question 2\n",
        "Alice has n candies, where the ith candy is of type candyType[i]. Alice noticed that she started to gain weight, so she visited a doctor. \n",
        "\n",
        "The doctor advised Alice to only eat n / 2 of the candies she has (n is always even). Alice likes her candies very much, and she wants to eat the maximum number of different types of candies while still following the doctor's advice. \n",
        "\n",
        "Given the integer array candyType of length n, return the maximum number of different types of candies she can eat if she only eats n / 2 of them.\n",
        "\n",
        "Example 1:\n",
        "Input: candyType = [1,1,2,2,3,3]\n",
        "Output: 3\n",
        "\n",
        "Explanation: Alice can only eat 6 / 2 = 3 candies. Since there are only 3 types, she can eat one of each type."
      ],
      "metadata": {
        "id": "l2hvx9f0xzf4"
      }
    },
    {
      "cell_type": "code",
      "source": [
        "def candyTypeToEat(candyType:list())->int():\n",
        "  output = 0\n",
        "\n",
        "  setCandyType = set(candyType)\n",
        "\n",
        "  candiesSheCanEat = len(candyType)//2\n",
        "\n",
        "  if candiesSheCanEat > len(setCandyType):\n",
        "    output = len(setCandyType)\n",
        "  else:\n",
        "    output = candiesSheCanEat\n",
        "\n",
        "  return output"
      ],
      "metadata": {
        "id": "HnwpLRBWx3Z9"
      },
      "execution_count": 13,
      "outputs": []
    },
    {
      "cell_type": "code",
      "source": [
        "candyTypeToEat( [1,1,2,2,3,3])"
      ],
      "metadata": {
        "colab": {
          "base_uri": "https://localhost:8080/"
        },
        "id": "Mq73bofRy7gw",
        "outputId": "6b579181-5a91-47b0-9aae-e79551b70ab7"
      },
      "execution_count": 14,
      "outputs": [
        {
          "output_type": "execute_result",
          "data": {
            "text/plain": [
              "3"
            ]
          },
          "metadata": {},
          "execution_count": 14
        }
      ]
    },
    {
      "cell_type": "markdown",
      "source": [
        "Question 3\n",
        "We define a harmonious array as an array where the difference between its maximum value\n",
        "and its minimum value is exactly 1.\n",
        "\n",
        "Given an integer array nums, return the length of its longest harmonious subsequence\n",
        "among all its possible subsequences.\n",
        "\n",
        "A subsequence of an array is a sequence that can be derived from the array by deleting some or no elements without changing the order of the remaining elements.\n",
        "\n",
        "Example 1:\n",
        "Input: nums = [1,3,2,2,5,2,3,7]\n",
        "Output: 5\n",
        "\n",
        "Explanation: The longest harmonious subsequence is [3,2,2,2,3]."
      ],
      "metadata": {
        "id": "N_dxYzEazTLm"
      }
    },
    {
      "cell_type": "code",
      "source": [
        "import collections\n",
        "def harmoniousSequence(nums:list()) -> int():\n",
        "  count = collections.Counter(nums)\n",
        "  return max([count[n] + count[n + 1] for n in count if n + 1 in count] or [0])"
      ],
      "metadata": {
        "id": "-GTnbkn_zctc"
      },
      "execution_count": 19,
      "outputs": []
    },
    {
      "cell_type": "code",
      "source": [
        "harmoniousSequence([1,3,2,2,5,2,3,7])"
      ],
      "metadata": {
        "colab": {
          "base_uri": "https://localhost:8080/"
        },
        "id": "O2eOkKq51BAL",
        "outputId": "8fd9427e-295e-4c6d-b66e-e614a95fc5e5"
      },
      "execution_count": 20,
      "outputs": [
        {
          "output_type": "execute_result",
          "data": {
            "text/plain": [
              "5"
            ]
          },
          "metadata": {},
          "execution_count": 20
        }
      ]
    },
    {
      "cell_type": "markdown",
      "source": [
        "Question 4\n",
        "You have a long flowerbed in which some of the plots are planted, and some are not.\n",
        "However, flowers cannot be planted in adjacent plots.\n",
        "Given an integer array flowerbed containing 0's and 1's, where 0 means empty and 1 means not empty, and an integer n, return true if n new flowers can be planted in the flowerbed without violating the no-adjacent-flowers rule and false otherwise.\n",
        "\n",
        "Example 1:\n",
        "Input: flowerbed = [1,0,0,0,1], n = 1\n",
        "Output: true"
      ],
      "metadata": {
        "id": "AJO276Ni2KlI"
      }
    },
    {
      "cell_type": "code",
      "source": [
        "def canPlant(flowerbed:list(), n: int())->bool:\n",
        "  output = False\n",
        "\n",
        "  # for n plants we need 2n+1 spaces except corners there in 2 spaces i can plant 1\n",
        "\n",
        "  consSpaceList = []\n",
        "  count = 0\n",
        "  for flower in flowerbed:\n",
        "    if flower == 0:\n",
        "      count+=1\n",
        "    else:\n",
        "      if count == 0:\n",
        "        continue\n",
        "      consSpaceList.append(count)\n",
        "      count=0\n",
        "  \n",
        "  flowersCanBePlanted = 0\n",
        "  maxCorner = 2\n",
        "  for space in consSpaceList:\n",
        "    if space>2:\n",
        "      if space%2 == 0:\n",
        "        space = space-1\n",
        "        flowersCanBePlanted+= (space-1)//2\n",
        "    #Handle the Edge Case of Corners\n",
        "    elif flowerbed[0] == 0 and flowerbed[1] == 0 and maxCorner != 0:\n",
        "      flowersCanBePlanted+= 1\n",
        "      maxCorner-+1\n",
        "    elif flowerbed[-1] == 0 and flowerbed[-2] == 0 and maxCorner != 0:\n",
        "      flowersCanBePlanted+= 1\n",
        "      maxCorner-+1\n",
        "\n",
        "  if flowersCanBePlanted >= n:\n",
        "    output = True\n",
        "\n",
        "  return output"
      ],
      "metadata": {
        "id": "DUiQmuoY2LVP"
      },
      "execution_count": 38,
      "outputs": []
    },
    {
      "cell_type": "code",
      "source": [
        "canPlant([1,0,0,0,0,1],2)"
      ],
      "metadata": {
        "colab": {
          "base_uri": "https://localhost:8080/"
        },
        "id": "ak-_8EVk7FYS",
        "outputId": "33d308ae-0efd-4795-eb4a-8631e6599aab"
      },
      "execution_count": 39,
      "outputs": [
        {
          "output_type": "execute_result",
          "data": {
            "text/plain": [
              "False"
            ]
          },
          "metadata": {},
          "execution_count": 39
        }
      ]
    },
    {
      "cell_type": "markdown",
      "source": [
        "Question 5\n",
        "Given an integer array nums, find three numbers whose product is maximum and return the maximum product.\n",
        "\n",
        "Example 1:\n",
        "Input: nums = [1,2,3]\n",
        "Output: 6"
      ],
      "metadata": {
        "id": "bsZFrs5N7E4N"
      }
    },
    {
      "cell_type": "code",
      "source": [
        "def maxProduct(nums:list())->int():\n",
        "\n",
        "  if len(nums) == 1:\n",
        "    return nums[0]\n",
        "  if len(nums) == 2:\n",
        "    return nums[0]*nums[1]\n",
        "\n",
        "  nums.sort()\n",
        "\n",
        "  return nums[-1]*nums[-2]*nums[-3]"
      ],
      "metadata": {
        "id": "1285mu_48h_p"
      },
      "execution_count": 41,
      "outputs": []
    },
    {
      "cell_type": "code",
      "source": [
        "maxProduct([1,2,3])"
      ],
      "metadata": {
        "colab": {
          "base_uri": "https://localhost:8080/"
        },
        "id": "ASkvxUa_9nfw",
        "outputId": "a714e52b-847b-490e-b687-d3866a9c10af"
      },
      "execution_count": 42,
      "outputs": [
        {
          "output_type": "execute_result",
          "data": {
            "text/plain": [
              "6"
            ]
          },
          "metadata": {},
          "execution_count": 42
        }
      ]
    },
    {
      "cell_type": "markdown",
      "source": [
        "Question 6\n",
        "Given an array of integers nums which is sorted in ascending order, and an integer target,\n",
        "write a function to search target in nums. If target exists, then return its index. Otherwise,\n",
        "return -1.\n",
        "\n",
        "You must write an algorithm with O(log n) runtime complexity.\n",
        "\n",
        "Input: nums = [-1,0,3,5,9,12], target = 9\n",
        "Output: 4\n",
        "\n",
        "Explanation: 9 exists in nums and its index is 4"
      ],
      "metadata": {
        "id": "4raX1hV_9m8j"
      }
    },
    {
      "cell_type": "code",
      "source": [
        "def binarySearch(nums:list(), target:int())->int():\n",
        "  out = -1\n",
        "\n",
        "  high = len(nums) -1\n",
        "  low = 0\n",
        "  \n",
        "  while(high >= low):\n",
        "    mid = (high+low)//2\n",
        "\n",
        "    if nums[mid] == target:\n",
        "      return mid\n",
        "    elif nums[mid] > target:\n",
        "      high = mid -1\n",
        "    else:\n",
        "      low = mid + 1\n",
        "    \n",
        "\n",
        "  return out"
      ],
      "metadata": {
        "id": "GDRcWvDz9vmQ"
      },
      "execution_count": 15,
      "outputs": []
    },
    {
      "cell_type": "code",
      "source": [
        "binarySearch( [-1,0,3,5,9,12], 13)"
      ],
      "metadata": {
        "colab": {
          "base_uri": "https://localhost:8080/"
        },
        "id": "rk-LEIEvEZOq",
        "outputId": "ee36a722-8820-44a3-ffbc-1200f17d63aa"
      },
      "execution_count": 16,
      "outputs": [
        {
          "output_type": "execute_result",
          "data": {
            "text/plain": [
              "-1"
            ]
          },
          "metadata": {},
          "execution_count": 16
        }
      ]
    },
    {
      "cell_type": "markdown",
      "source": [
        "Question 7\n",
        "An array is monotonic if it is either monotone increasing or monotone decreasing.\n",
        "\n",
        "An array nums is monotone increasing if for all i <= j, nums[i] <= nums[j]. An array nums is\n",
        "monotone decreasing if for all i <= j, nums[i] >= nums[j].\n",
        "\n",
        "Given an integer array nums, return true if the given array is monotonic, or false otherwise.\n",
        "\n",
        "Example 1:\n",
        "Input: nums = [1,2,2,3]\n",
        "Output: true"
      ],
      "metadata": {
        "id": "mprat5UCHdtm"
      }
    },
    {
      "cell_type": "code",
      "source": [
        "def isMonotonic(nums:list())->bool:\n",
        "  sortedNums = nums\n",
        "  sortedReversed = nums\n",
        "  sortedNums.sort()\n",
        "  sortedReversed.sort(reverse=True)\n",
        "  return (nums == sortedNums) or (nums == sortedReversed)"
      ],
      "metadata": {
        "id": "RLoJa6c1HiF_"
      },
      "execution_count": 19,
      "outputs": []
    },
    {
      "cell_type": "code",
      "source": [
        "isMonotonic([1,2,3,6,6,9,6])"
      ],
      "metadata": {
        "id": "PG2P0pBgKHu1",
        "outputId": "cec7f318-4e6b-4786-89f7-d49c020f6543",
        "colab": {
          "base_uri": "https://localhost:8080/"
        }
      },
      "execution_count": 21,
      "outputs": [
        {
          "output_type": "execute_result",
          "data": {
            "text/plain": [
              "True"
            ]
          },
          "metadata": {},
          "execution_count": 21
        }
      ]
    },
    {
      "cell_type": "markdown",
      "source": [
        "Question 8\n",
        "You are given an integer array nums and an integer k.\n",
        "\n",
        "In one operation, you can choose any index i where 0 <= i < nums.length and change nums[i] to nums[i] + x where x is an integer from the range [-k, k]. You can apply this operation at most once for each index i.\n",
        "\n",
        "The score of nums is the difference between the maximum and minimum elements in nums.\n",
        "\n",
        "Return the minimum score of nums after applying the mentioned operation at most once for each index in it.\n",
        "\n",
        "Example 1:\n",
        "Input: nums = [1], k = 0\n",
        "Output: 0\n",
        "\n",
        "Explanation: The score is max(nums) - min(nums) = 1 - 1 = 0."
      ],
      "metadata": {
        "id": "wxdRI8GVKOMo"
      }
    },
    {
      "cell_type": "code",
      "source": [
        "def operation(nums:list(), k:int())-> int:\n",
        "  if len(nums)==1:\n",
        "      return 0\n",
        "  else:\n",
        "      return max(0,max(nums)-min(nums)-2*k)"
      ],
      "metadata": {
        "id": "p-C60E3sKSE9"
      },
      "execution_count": 22,
      "outputs": []
    },
    {
      "cell_type": "code",
      "source": [],
      "metadata": {
        "id": "ptEdUbq6N-FQ"
      },
      "execution_count": null,
      "outputs": []
    }
  ]
}