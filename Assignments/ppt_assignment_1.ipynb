{
  "nbformat": 4,
  "nbformat_minor": 0,
  "metadata": {
    "colab": {
      "provenance": []
    },
    "kernelspec": {
      "name": "python3",
      "display_name": "Python 3"
    },
    "language_info": {
      "name": "python"
    }
  },
  "cells": [
    {
      "cell_type": "markdown",
      "source": [
        "<aside>\n",
        "💡 **Q1.** Given an array of integers nums and an integer target, return indices of the two numbers such that they add up to target.\n",
        "\n",
        "You may assume that each input would have exactly one solution, and you may not use the same element twice.\n",
        "\n",
        "You can return the answer in any order.\n",
        "\n",
        "**Example:**\n",
        "Input: nums = [2,7,11,15], target = 9\n",
        "Output0 [0,1]\n",
        "\n",
        "**Explanation:** Because nums[0] + nums[1] == 9, we return [0, 1][\n",
        "\n",
        "</aside>"
      ],
      "metadata": {
        "id": "SqwooQxlMor7"
      }
    },
    {
      "cell_type": "code",
      "source": [
        "\n",
        "def sumOfInd(nums:list(), target:int())->[]:\n",
        "\n",
        "  outList = []\n",
        "  for i in range(len(nums)):\n",
        "    element = nums[i]\n",
        "    leftIndices = [j for j in range(len(nums)) if j!=i]\n",
        "    for j in leftIndices:\n",
        "      if element+nums[j] == target:\n",
        "        lst = [i,j]\n",
        "        lst.sort()\n",
        "        if lst in outList:\n",
        "          continue\n",
        "        else:\n",
        "\n",
        "          outList.append(lst)\n",
        "  return outList\n",
        "  \n"
      ],
      "metadata": {
        "id": "6reP5AJSMmX8"
      },
      "execution_count": 37,
      "outputs": []
    },
    {
      "cell_type": "code",
      "execution_count": 38,
      "metadata": {
        "colab": {
          "base_uri": "https://localhost:8080/"
        },
        "id": "dqzUD_ssMGqW",
        "outputId": "edf21dcd-bb0f-494a-c9fc-2d91d0d77c4c"
      },
      "outputs": [
        {
          "output_type": "execute_result",
          "data": {
            "text/plain": [
              "[[0, 1], [2, 3], [4, 5]]"
            ]
          },
          "metadata": {},
          "execution_count": 38
        }
      ],
      "source": [
        "nums = [2,3,6,-1,5,0]\n",
        "target = 5\n",
        "\n",
        "sumOfInd(nums, target)\n"
      ]
    },
    {
      "cell_type": "markdown",
      "source": [
        "<aside>\n",
        "💡 **Q2.** Given an integer array nums and an integer val, remove all occurrences of val in nums in-place. The order of the elements may be changed. Then return the number of elements in nums which are not equal to val.\n",
        "\n",
        "Consider the number of elements in nums which are not equal to val be k, to get accepted, you need to do the following things:\n",
        "\n",
        "- Change the array nums such that the first k elements of nums contain the elements which are not equal to val. The remaining elements of nums are not important as well as the size of nums.\n",
        "- Return k.\n",
        "\n",
        "**Example :**\n",
        "Input: nums = [3,2,2,3], val = 3\n",
        "Output: 2, nums = [2,2,_*,_*]\n",
        "\n",
        "**Explanation:** Your function should return k = 2, with the first two elements of nums being 2. It does not matter what you leave beyond the returned k (hence they are underscores)[\n",
        "\n",
        "</aside>"
      ],
      "metadata": {
        "id": "zLyg9DJ_Smp2"
      }
    },
    {
      "cell_type": "code",
      "source": [
        "def retCount(nums:list(), val:int())-> int():\n",
        "  count = 0\n",
        "  for num in nums:\n",
        "    if num == val:\n",
        "      count+=1\n",
        "  return len(nums) - count"
      ],
      "metadata": {
        "id": "nkK8dcHYTBRE"
      },
      "execution_count": 44,
      "outputs": []
    },
    {
      "cell_type": "code",
      "source": [
        "retCount([2,3,6,5,2,3,6,4], 3)"
      ],
      "metadata": {
        "colab": {
          "base_uri": "https://localhost:8080/"
        },
        "id": "h3Uxpa8sTWx_",
        "outputId": "3a713d72-a57c-46b5-a603-c91a6fb23fac"
      },
      "execution_count": 45,
      "outputs": [
        {
          "output_type": "execute_result",
          "data": {
            "text/plain": [
              "6"
            ]
          },
          "metadata": {},
          "execution_count": 45
        }
      ]
    },
    {
      "cell_type": "markdown",
      "source": [
        "<aside>\n",
        "💡 **Q3.** Given a sorted array of distinct integers and a target value, return the index if the target is found. If not, return the index where it would be if it were inserted in order.\n",
        "\n",
        "You must write an algorithm with O(log n) runtime complexity.\n",
        "\n",
        "**Example 1:**\n",
        "Input: nums = [1,3,5,6], target = 5\n",
        "\n",
        "Output: 2\n",
        "\n",
        "</aside>"
      ],
      "metadata": {
        "id": "mOsfhMZOTrI8"
      }
    },
    {
      "cell_type": "code",
      "source": [
        "nums = [1,3,5,6]\n",
        "target = 4\n",
        "\n",
        "\n",
        "\n",
        "def binary_search(arr, low, high, x):\n",
        "    \n",
        "    if high >= low:\n",
        " \n",
        "        mid = (high + low) // 2\n",
        " \n",
        "        if arr[mid] == x:\n",
        "            return mid\n",
        " \n",
        "\n",
        "        elif arr[mid] > x:\n",
        "            return binary_search(arr, low, mid - 1, x)\n",
        " \n",
        "        else:\n",
        "            return binary_search(arr, mid + 1, high, x)\n",
        " \n",
        "    else:\n",
        "        return low"
      ],
      "metadata": {
        "id": "TMbU4_3wTvB4"
      },
      "execution_count": 49,
      "outputs": []
    },
    {
      "cell_type": "code",
      "source": [
        "binary_search(nums, 0, len(nums)-1, target)"
      ],
      "metadata": {
        "colab": {
          "base_uri": "https://localhost:8080/"
        },
        "id": "p54WY_IGVMSQ",
        "outputId": "83617b46-76c5-446a-dcc7-99a2aaac3f16"
      },
      "execution_count": 50,
      "outputs": [
        {
          "output_type": "execute_result",
          "data": {
            "text/plain": [
              "2"
            ]
          },
          "metadata": {},
          "execution_count": 50
        }
      ]
    },
    {
      "cell_type": "markdown",
      "source": [
        " **Q4.** You are given a large integer represented as an integer array digits, where each digits[i] is the ith digit of the integer. The digits are ordered from most significant to least significant in left-to-right order. The large integer does not contain any leading 0's.\n",
        "\n",
        "Increment the large integer by one and return the resulting array of digits.\n",
        "\n",
        "**Example 1:**\n",
        "Input: digits = [1,2,3]\n",
        "Output: [1,2,4]\n",
        "\n",
        "**Explanation:** The array represents the integer 123.\n",
        "\n",
        "Incrementing by one gives 123 + 1 = 124.\n",
        "Thus, the result should be [1,2,4].\n",
        "\n"
      ],
      "metadata": {
        "id": "GtVI22UNVuYP"
      }
    },
    {
      "cell_type": "code",
      "source": [
        "def listToInt(nums:list())->int():\n",
        "  length = len(nums)-1\n",
        "  out = 0\n",
        "  for num in nums:\n",
        "    out+= num * (10**length) \n",
        "    length -= 1\n",
        "  return out+1\n",
        "\n",
        "\n",
        "def intToList(inputt:int(), len:int()) -> list():\n",
        "  outList = []\n",
        "  for i in range(len-1,-1, -1):\n",
        "    divisor = 10**i\n",
        "    out = (inputt//divisor)%10\n",
        "    outList.append(out)\n",
        "\n",
        "  print(outList)\n",
        "  return outList\n",
        "\n"
      ],
      "metadata": {
        "id": "7R7D2GVMV0MB"
      },
      "execution_count": 86,
      "outputs": []
    },
    {
      "cell_type": "code",
      "source": [
        "intToList(listToInt( [1,2,3] ), 3)\n"
      ],
      "metadata": {
        "colab": {
          "base_uri": "https://localhost:8080/"
        },
        "id": "G1MeUtAyWhza",
        "outputId": "8cf0e381-f201-4410-b19a-9904d5bd83b9"
      },
      "execution_count": 87,
      "outputs": [
        {
          "output_type": "stream",
          "name": "stdout",
          "text": [
            "[1, 2, 4]\n"
          ]
        },
        {
          "output_type": "execute_result",
          "data": {
            "text/plain": [
              "[1, 2, 4]"
            ]
          },
          "metadata": {},
          "execution_count": 87
        }
      ]
    },
    {
      "cell_type": "markdown",
      "source": [
        "<aside>\n",
        "💡 **Q5.** You are given two integer arrays nums1 and nums2, sorted in non-decreasing order, and two integers m and n, representing the number of elements in nums1 and nums2 respectively.\n",
        "\n",
        "Merge nums1 and nums2 into a single array sorted in non-decreasing order.\n",
        "\n",
        "The final sorted array should not be returned by the function, but instead be stored inside the array nums1. To accommodate this, nums1 has a length of m + n, where the first m elements denote the elements that should be merged, and the last n elements are set to 0 and should be ignored. nums2 has a length of n.\n",
        "\n",
        "**Example 1:**\n",
        "Input: nums1 = [1,2,3,0,0,0], m = 3, nums2 = [2,5,6], n = 3\n",
        "Output: [1,2,2,3,5,6]\n",
        "\n",
        "**Explanation:** The arrays we are merging are [1,2,3] and [2,5,6].\n",
        "The result of the merge is [1,2,2,3,5,6] with the underlined elements coming from nums1.\n",
        "\n",
        "</aside>"
      ],
      "metadata": {
        "id": "4VAePvTLcGO-"
      }
    },
    {
      "cell_type": "code",
      "source": [
        "def mergeSort(nums1: list(), m:int(), nums2:list(), n:int()) -> list():\n",
        "  mergedList = []\n",
        "\n",
        "  i = j = 0\n",
        "  while i<m and j<n:\n",
        "    if nums1[i] < nums2[j]:\n",
        "      mergedList.append(nums1[i])\n",
        "      i+= 1\n",
        "    elif nums[1]>=nums2[j]:\n",
        "      mergedList.append(nums2[j])\n",
        "      j+=1\n",
        "    \n",
        "  for i in range(i,m):\n",
        "    mergedList.append(nums1[i])\n",
        "  for j in range (j,n):\n",
        "    mergedList.append(nums2[j])\n",
        "\n",
        "  return mergedList"
      ],
      "metadata": {
        "id": "VihA0cdbcJv5"
      },
      "execution_count": 90,
      "outputs": []
    },
    {
      "cell_type": "code",
      "source": [
        "mergeSort([1,2,3],3,[2,3,6,9],4)"
      ],
      "metadata": {
        "colab": {
          "base_uri": "https://localhost:8080/"
        },
        "id": "I2K4xkPrfQ4O",
        "outputId": "f364f5ee-8057-4f45-92c9-db8adbb47f87"
      },
      "execution_count": 91,
      "outputs": [
        {
          "output_type": "execute_result",
          "data": {
            "text/plain": [
              "[1, 2, 2, 3, 3, 6, 9]"
            ]
          },
          "metadata": {},
          "execution_count": 91
        }
      ]
    },
    {
      "cell_type": "markdown",
      "source": [
        "<aside>\n",
        "💡 **Q6.** Given an integer array nums, return true if any value appears at least twice in the array, and return false if every element is distinct.\n",
        "\n",
        "**Example 1:**\n",
        "Input: nums = [1,2,3,1]\n",
        "\n",
        "Output: true\n",
        "\n",
        "</aside>"
      ],
      "metadata": {
        "id": "a0fyt0c8fx33"
      }
    },
    {
      "cell_type": "code",
      "source": [
        "def checkNotDistinct(nums:list())->bool:\n",
        "  return len(set(nums)) != len(nums)"
      ],
      "metadata": {
        "id": "FqiMxZFTf35N"
      },
      "execution_count": 92,
      "outputs": []
    },
    {
      "cell_type": "code",
      "source": [
        "checkNotDistinct([1,2,3,1])"
      ],
      "metadata": {
        "colab": {
          "base_uri": "https://localhost:8080/"
        },
        "id": "x1brci9bgYnK",
        "outputId": "77a6e325-3c54-42d6-e68b-f304718bd966"
      },
      "execution_count": 93,
      "outputs": [
        {
          "output_type": "execute_result",
          "data": {
            "text/plain": [
              "True"
            ]
          },
          "metadata": {},
          "execution_count": 93
        }
      ]
    },
    {
      "cell_type": "markdown",
      "source": [
        "<aside>\n",
        "💡 **Q7.** Given an integer array nums, move all 0's to the end of it while maintaining the relative order of the nonzero elements.\n",
        "\n",
        "Note that you must do this in-place without making a copy of the array.\n",
        "\n",
        "**Example 1:**\n",
        "Input: nums = [0,1,0,3,12]\n",
        "Output: [1,3,12,0,0]\n",
        "\n",
        "</aside>"
      ],
      "metadata": {
        "id": "H2yH8eYgjoc-"
      }
    },
    {
      "cell_type": "code",
      "source": [
        "def moveZeros(nums:list())->list():\n",
        "  outList = [num for num in nums if num != 0]\n",
        "  for i in range(len(outList), len(nums)):\n",
        "    outList.append(0)\n",
        "  return outList"
      ],
      "metadata": {
        "id": "llthemubjpOh"
      },
      "execution_count": 94,
      "outputs": []
    },
    {
      "cell_type": "code",
      "source": [
        "moveZeros( [0,1,0,3,12] )"
      ],
      "metadata": {
        "colab": {
          "base_uri": "https://localhost:8080/"
        },
        "id": "WLU7sFLLkbSK",
        "outputId": "ed220e53-c1be-4741-d52a-7d136bfbe086"
      },
      "execution_count": 95,
      "outputs": [
        {
          "output_type": "execute_result",
          "data": {
            "text/plain": [
              "[1, 3, 12, 0, 0]"
            ]
          },
          "metadata": {},
          "execution_count": 95
        }
      ]
    },
    {
      "cell_type": "markdown",
      "source": [
        "<aside>\n",
        "💡 **Q8.** You have a set of integers s, which originally contains all the numbers from 1 to n. Unfortunately, due to some error, one of the numbers in s got duplicated to another number in the set, which results in repetition of one number and loss of another number.\n",
        "\n",
        "You are given an integer array nums representing the data status of this set after the error.\n",
        "\n",
        "Find the number that occurs twice and the number that is missing and return them in the form of an array.\n",
        "\n",
        "**Example 1:**\n",
        "Input: nums = [1,2,2,4]\n",
        "Output: [2,3]\n",
        "\n",
        "</aside>"
      ],
      "metadata": {
        "id": "9z1csfEZkgRm"
      }
    },
    {
      "cell_type": "code",
      "source": [
        "def missingNum(nums:list())->list():\n",
        "  output = []\n",
        "  for itr in range(0, len(nums)-1):\n",
        "    num = nums[itr]\n",
        "    numNxt = nums[itr+1]\n",
        "    if num == numNxt:\n",
        "      output.append(num)\n",
        "      output.append(num+1)\n",
        "      break\n",
        "  return output\n",
        "  "
      ],
      "metadata": {
        "id": "L8BC2cukkinc"
      },
      "execution_count": 100,
      "outputs": []
    },
    {
      "cell_type": "code",
      "source": [
        "missingNum([1,2,2,4] )"
      ],
      "metadata": {
        "colab": {
          "base_uri": "https://localhost:8080/"
        },
        "id": "3XPtvdwPlXbn",
        "outputId": "fabda748-d736-4702-89ab-8cfbc84e543d"
      },
      "execution_count": 101,
      "outputs": [
        {
          "output_type": "execute_result",
          "data": {
            "text/plain": [
              "[2, 3]"
            ]
          },
          "metadata": {},
          "execution_count": 101
        }
      ]
    }
  ]
}