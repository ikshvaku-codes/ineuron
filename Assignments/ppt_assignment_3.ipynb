{
  "nbformat": 4,
  "nbformat_minor": 0,
  "metadata": {
    "colab": {
      "provenance": []
    },
    "kernelspec": {
      "name": "python3",
      "display_name": "Python 3"
    },
    "language_info": {
      "name": "python"
    }
  },
  "cells": [
    {
      "cell_type": "markdown",
      "source": [
        "Question 1\n",
        "Given an integer array nums of length n and an integer target, find three integers\n",
        "in nums such that the sum is closest to the target.\n",
        "Return the sum of the three integers.\n",
        "\n",
        "You may assume that each input would have exactly one solution.\n",
        "\n",
        "Example 1:\n",
        "Input: nums = [-1,2,1,-4], target = 1\n",
        "Output: 2\n",
        "\n",
        "Explanation: The sum that is closest to the target is 2. (-1 + 2 + 1 = 2)."
      ],
      "metadata": {
        "id": "0XARzYPqWegZ"
      }
    },
    {
      "cell_type": "code",
      "execution_count": 1,
      "metadata": {
        "colab": {
          "base_uri": "https://localhost:8080/"
        },
        "id": "vGU4X6_5WYgX",
        "outputId": "f8b3d830-f21f-490c-d9df-5804d3141523"
      },
      "outputs": [
        {
          "output_type": "execute_result",
          "data": {
            "text/plain": [
              "2"
            ]
          },
          "metadata": {},
          "execution_count": 1
        }
      ],
      "source": [
        "def sumOfClosest(nums:list(), target:int())->int():\n",
        "  nums.sort()\n",
        "  closest_sum = float('inf')\n",
        "  for i in range(len(nums) - 2):\n",
        "      left = i + 1\n",
        "      right = len(nums) - 1\n",
        "      while left < right:\n",
        "          curr_sum = nums[i] + nums[left] + nums[right]\n",
        "          if abs(curr_sum - target) < abs(closest_sum - target):\n",
        "              closest_sum = curr_sum\n",
        "          if curr_sum < target:\n",
        "              left += 1\n",
        "          elif curr_sum > target:\n",
        "              right -= 1\n",
        "          else:\n",
        "              return curr_sum\n",
        "  return closest_sum\n",
        "\n",
        "    \n",
        "sumOfClosest([-1,2,1,-4], 1)"
      ]
    },
    {
      "cell_type": "markdown",
      "source": [
        "Question 2 Given an array nums of n integers, return an array of all the unique quadruplets\n",
        "[nums[a], nums[b], nums[c], nums[d]] such that:\n",
        "           ● 0 <= a, b, c, d < n\n",
        "           ● a, b, c, and d are distinct.\n",
        "           ● nums[a] + nums[b] + nums[c] + nums[d] == target\n",
        "\n",
        "You may return the answer in any order.\n",
        "\n",
        "Example 1:\n",
        "Input: nums = [1,0,-1,0,-2,2], target = 0\n",
        "Output: [[-2,-1,1,2],[-2,0,0,2],[-1,0,0,1]]"
      ],
      "metadata": {
        "id": "qxhk06nJZP9I"
      }
    },
    {
      "cell_type": "code",
      "source": [
        "def uniqueQuad(A:list(), target:int())->list():\n",
        "  A.sort()\n",
        "\n",
        "  # check if quadruplet is formed by `A[i]`, `A[j]`, and a pair from\n",
        "  # sublist `A[j+1…n)`\n",
        "  for i in range(len(A) - 3):\n",
        "    for j in range(i + 1, len(A) - 2):\n",
        "\n",
        "      # `k` stores remaining sum\n",
        "      k = target - (A[i] + A[j])\n",
        "\n",
        "      # check for sum `k` in sublist `A[j+1…n)`\n",
        "      low = j + 1\n",
        "      high = len(A) - 1\n",
        "\n",
        "      while low < high:\n",
        "        if A[low] + A[high] < k:\n",
        "            low = low + 1\n",
        "        elif A[low] + A[high] > k:\n",
        "            high = high - 1\n",
        "        # quadruplet with a given sum found\n",
        "        else:\n",
        "            print((A[i], A[j], A[low], A[high]))\n",
        "            (low, high) = (low + 1, high - 1)"
      ],
      "metadata": {
        "id": "izvDAtvmZTLV"
      },
      "execution_count": 6,
      "outputs": []
    },
    {
      "cell_type": "code",
      "source": [
        "uniqueQuad([1,0,-1,0,-2,2],0)"
      ],
      "metadata": {
        "colab": {
          "base_uri": "https://localhost:8080/"
        },
        "id": "CdzQWK-HdeJf",
        "outputId": "e35fc424-ac60-451d-bef9-cd26f8554890"
      },
      "execution_count": 7,
      "outputs": [
        {
          "output_type": "stream",
          "name": "stdout",
          "text": [
            "(-2, -1, 1, 2)\n",
            "(-2, 0, 0, 2)\n",
            "(-1, 0, 0, 1)\n"
          ]
        }
      ]
    },
    {
      "cell_type": "markdown",
      "source": [
        "Question 3\n",
        "A permutation of an array of integers is an arrangement of its members into a\n",
        "sequence or linear order.\n",
        "\n",
        "For example, for arr = [1,2,3], the following are all the permutations of arr:\n",
        "[1,2,3], [1,3,2], [2, 1, 3], [2, 3, 1], [3,1,2], [3,2,1].\n",
        "\n",
        "The next permutation of an array of integers is the next lexicographically greater\n",
        "permutation of its integer. More formally, if all the permutations of the array are\n",
        "sorted in one container according to their lexicographical order, then the next\n",
        "permutation of that array is the permutation that follows it in the sorted container.\n",
        "\n",
        "If such an arrangement is not possible, the array must be rearranged as the\n",
        "lowest possible order (i.e., sorted in ascending order).\n",
        "\n",
        "● For example, the next permutation of arr = [1,2,3] is [1,3,2].\n",
        "● Similarly, the next permutation of arr = [2,3,1] is [3,1,2].\n",
        "● While the next permutation of arr = [3,2,1] is [1,2,3] because [3,2,1] does not\n",
        "have a lexicographical larger rearrangement.\n",
        "\n",
        "Given an array of integers nums, find the next permutation of nums.\n",
        "The replacement must be in place and use only constant extra memory.\n",
        "\n",
        "Example 1:\n",
        "Input: nums = [1,2,3]\n",
        "Output: [1,3,2]\n",
        "\n"
      ],
      "metadata": {
        "id": "wwMT2xjxd2Hj"
      }
    },
    {
      "cell_type": "code",
      "source": [
        "def nextLexi(nums:list(), )->list():\n",
        "  for curr in reversed(range(0, len(nums) - 1)):\n",
        "    if nums[curr] >= nums[curr + 1]:\n",
        "      continue;\n",
        "        \n",
        "    next = curr + 1;\n",
        "    while next < len(nums) and nums[next] > nums[curr]:\n",
        "      next += 1;\n",
        "        \n",
        "    nums[curr], nums[next - 1] = nums[next - 1], nums[curr];\n",
        "    \n",
        "    nums[curr+1:] = reversed(nums[curr+1:])\n",
        "        \n",
        "    return nums;\n",
        "            \n",
        "  return nums.sort();\n",
        "\n",
        "  \n"
      ],
      "metadata": {
        "id": "WdkbN1Ard7bz"
      },
      "execution_count": 8,
      "outputs": []
    },
    {
      "cell_type": "code",
      "source": [
        "nextLexi([3,2,4,1],[])"
      ],
      "metadata": {
        "colab": {
          "base_uri": "https://localhost:8080/"
        },
        "id": "Z8PJUMdXjK6F",
        "outputId": "d3c9874e-d0e1-4995-9962-dd351be222a3"
      },
      "execution_count": 9,
      "outputs": [
        {
          "output_type": "execute_result",
          "data": {
            "text/plain": [
              "[3, 4, 1, 2]"
            ]
          },
          "metadata": {},
          "execution_count": 9
        }
      ]
    },
    {
      "cell_type": "markdown",
      "source": [
        "Given a sorted array of distinct integers and a target value, return the index if the\n",
        "target is found. If not, return the index where it would be if it were inserted in\n",
        "order.\n",
        "\n",
        "You must write an algorithm with O(log n) runtime complexity.\n",
        "\n",
        "Example 1:\n",
        "Input: nums = [1,3,5,6], target = 5\n",
        "Output: 2"
      ],
      "metadata": {
        "id": "l3R8fxkRjY0I"
      }
    },
    {
      "cell_type": "code",
      "source": [
        "def binSer(nums:list(), target:int())->int():\n",
        "  output = -1\n",
        "\n",
        "  high = len(nums)-1\n",
        "  low = 0\n",
        "  while high>=low:\n",
        "    mid = (high+low)//2\n",
        "    if nums[mid] == target:\n",
        "      return mid\n",
        "    elif nums[mid] > target:\n",
        "      high = mid-1\n",
        "    else:\n",
        "      low = mid+1\n",
        "      \n",
        "    \n",
        "\n",
        "  return low"
      ],
      "metadata": {
        "id": "B9QIydd3jfAi"
      },
      "execution_count": 25,
      "outputs": []
    },
    {
      "cell_type": "code",
      "source": [
        "binSer([1,3,5,6],4)"
      ],
      "metadata": {
        "colab": {
          "base_uri": "https://localhost:8080/"
        },
        "id": "fpcRaW1AkhqP",
        "outputId": "ecc4b1e2-8ead-4c6b-8d34-11c24dfb1410"
      },
      "execution_count": 27,
      "outputs": [
        {
          "output_type": "execute_result",
          "data": {
            "text/plain": [
              "2"
            ]
          },
          "metadata": {},
          "execution_count": 27
        }
      ]
    },
    {
      "cell_type": "markdown",
      "source": [
        "<aside>\n",
        "💡 You are given a large integer represented as an integer array digits, where each\n",
        "digits[i] is the ith digit of the integer. The digits are ordered from most significant\n",
        "to least significant in left-to-right order. The large integer does not contain any\n",
        "leading 0's.\n",
        "\n",
        "Increment the large integer by one and return the resulting array of digits.\n",
        "\n",
        "**Example 1:**\n",
        "Input: digits = [1,2,3]\n",
        "Output: [1,2,4]\n",
        "\n",
        "**Explanation:** The array represents the integer 123.\n",
        "Incrementing by one gives 123 + 1 = 124.\n",
        "Thus, the result should be [1,2,4].\n",
        "\n",
        "</aside>"
      ],
      "metadata": {
        "id": "odY4XvdhkhDW"
      }
    },
    {
      "cell_type": "code",
      "source": [
        "def inc(digits:list())->list:\n",
        "  length = len(digits)-1\n",
        "  largeInt = 0\n",
        "  for digit in digits:\n",
        "    largeInt+= digit*(10**length)\n",
        "    length-=1\n",
        "  \n",
        "  largeInt+=1\n",
        "  largeStr = str(largeInt)\n",
        "  strOut = []\n",
        "  for chr in largeStr:\n",
        "    strOut.append(chr)\n",
        "\n",
        "  return [int(chr) for chr in strOut]"
      ],
      "metadata": {
        "id": "B2_cmifMmSbF"
      },
      "execution_count": 28,
      "outputs": []
    },
    {
      "cell_type": "code",
      "source": [
        "inc([1,3,6,9,7,5,6,9,6,9])"
      ],
      "metadata": {
        "colab": {
          "base_uri": "https://localhost:8080/"
        },
        "id": "kz4n00AQofB1",
        "outputId": "448de771-e767-43a7-b77d-afa14e9d3763"
      },
      "execution_count": 30,
      "outputs": [
        {
          "output_type": "execute_result",
          "data": {
            "text/plain": [
              "[1, 3, 6, 9, 7, 5, 6, 9, 7, 0]"
            ]
          },
          "metadata": {},
          "execution_count": 30
        }
      ]
    },
    {
      "cell_type": "markdown",
      "source": [
        "Question 6\n",
        "Given a non-empty array of integers nums, every element appears twice except\n",
        "for one. Find that single one.\n",
        "\n",
        "You must implement a solution with a linear runtime complexity and use only\n",
        "constant extra space.\n",
        "\n",
        "Example 1:\n",
        "Input: nums = [2,2,1]\n",
        "Output: 1"
      ],
      "metadata": {
        "id": "2ra1aBzVonuV"
      }
    },
    {
      "cell_type": "code",
      "source": [
        "def singleOne(nums:list())->int():\n",
        "  singleList = []\n",
        "  for num in nums:\n",
        "    if num in singleList:\n",
        "      singleList.remove(num)\n",
        "      continue\n",
        "    singleList.append(num)\n",
        "  return singleList[0]"
      ],
      "metadata": {
        "id": "OSacNMlwomDJ"
      },
      "execution_count": 34,
      "outputs": []
    },
    {
      "cell_type": "code",
      "source": [
        "singleOne([1,2,3,6,9,9,6,3,5,5,1])"
      ],
      "metadata": {
        "colab": {
          "base_uri": "https://localhost:8080/"
        },
        "id": "dOcjM0yLq5Bc",
        "outputId": "f75f544d-43b9-4655-cee2-6e1c6da3fa6b"
      },
      "execution_count": 35,
      "outputs": [
        {
          "output_type": "execute_result",
          "data": {
            "text/plain": [
              "2"
            ]
          },
          "metadata": {},
          "execution_count": 35
        }
      ]
    },
    {
      "cell_type": "markdown",
      "source": [
        "Question 7\n",
        "You are given an inclusive range [lower, upper] and a sorted unique integer array\n",
        "nums, where all elements are within the inclusive range.\n",
        "\n",
        "A number x is considered missing if x is in the range [lower, upper] and x is not in\n",
        "nums.\n",
        "\n",
        "Return the shortest sorted list of ranges that exactly covers all the missing\n",
        "numbers. That is, no element of nums is included in any of the ranges, and each\n",
        "missing number is covered by one of the ranges.\n",
        "\n",
        "Example 1:\n",
        "Input: nums = [0,1,3,50,75], lower = 0, upper = 99\n",
        "Output: [[2,2],[4,49],[51,74],[76,99]]\n",
        "\n",
        "Explanation: The ranges are:\n",
        "[2,2]\n",
        "[4,49]\n",
        "[51,74]\n",
        "[76,99]"
      ],
      "metadata": {
        "id": "NRojDnOFrGXE"
      }
    },
    {
      "cell_type": "code",
      "source": [
        "def missingRange(nums:list(), lower:int(), upper:int())->list():\n",
        "  output = []\n",
        "  if lower == nums[0]:\n",
        "    pass\n",
        "  else:\n",
        "    output.append([lower, nums[0]-1])\n",
        "  for i in range(0, len(nums)-1):\n",
        "    curr = nums[i]\n",
        "    nxt = nums[i+1]\n",
        "    if curr == nxt or curr+1 == nxt:\n",
        "      continue\n",
        "    output.append([curr+1, nxt-1])\n",
        "  \n",
        "  if upper == nums[-1]:\n",
        "    pass\n",
        "  else:\n",
        "    output.append([nums[-1]+1, upper])\n",
        "  return output\n"
      ],
      "metadata": {
        "id": "MyG69-FSrNpe"
      },
      "execution_count": 45,
      "outputs": []
    },
    {
      "cell_type": "code",
      "source": [
        "missingRange([0,1,3,50,76],-6,150)"
      ],
      "metadata": {
        "colab": {
          "base_uri": "https://localhost:8080/"
        },
        "id": "kMBvOaRQtQ_7",
        "outputId": "e93c8c56-5060-4def-db5a-ed5760cc4952"
      },
      "execution_count": 46,
      "outputs": [
        {
          "output_type": "execute_result",
          "data": {
            "text/plain": [
              "[[-6, -1], [2, 2], [4, 49], [51, 75], [77, 150]]"
            ]
          },
          "metadata": {},
          "execution_count": 46
        }
      ]
    },
    {
      "cell_type": "markdown",
      "source": [
        "Question 8\n",
        "Given an array of meeting time intervals where intervals[i] = [starti, endi],\n",
        "determine if a person could attend all meetings.\n",
        "\n",
        "Example 1:\n",
        "Input: intervals = [[0,30],[5,10],[15,20]]\n",
        "Output: false"
      ],
      "metadata": {
        "id": "93kVngXeuFPT"
      }
    },
    {
      "cell_type": "code",
      "source": [
        "def canAttendAll(intervals:list())->bool:\n",
        "\n",
        "  for i in range(0, len(intervals)-1):\n",
        "    interval = intervals[i]\n",
        "    for j in range(0, len(intervals)-1):\n",
        "      if i == j:\n",
        "        pass\n",
        "      else:\n",
        "        intrl = intervals[j]\n",
        "        if interval[0]<intrl[1]<interval[1] or interval[0]<intrl[0]<interval[1]:\n",
        "          return False\n",
        "  return True"
      ],
      "metadata": {
        "id": "QyB0gvACuGHx"
      },
      "execution_count": 49,
      "outputs": []
    },
    {
      "cell_type": "code",
      "source": [
        "canAttendAll( [[0,30],[5,10],[15,20]])"
      ],
      "metadata": {
        "colab": {
          "base_uri": "https://localhost:8080/"
        },
        "id": "LtyRtx9Kv0v-",
        "outputId": "85bb8992-55cf-4090-fbf3-4bd4924aa439"
      },
      "execution_count": 50,
      "outputs": [
        {
          "output_type": "execute_result",
          "data": {
            "text/plain": [
              "False"
            ]
          },
          "metadata": {},
          "execution_count": 50
        }
      ]
    }
  ]
}