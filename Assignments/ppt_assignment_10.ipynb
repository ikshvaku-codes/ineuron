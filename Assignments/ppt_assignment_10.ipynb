{
  "nbformat": 4,
  "nbformat_minor": 0,
  "metadata": {
    "colab": {
      "provenance": []
    },
    "kernelspec": {
      "name": "python3",
      "display_name": "Python 3"
    },
    "language_info": {
      "name": "python"
    }
  },
  "cells": [
    {
      "cell_type": "markdown",
      "source": [
        "<aside>\n",
        "💡 **Question 1**\n",
        "\n",
        "Given an integer `n`, return *`true` if it is a power of three. Otherwise, return `false`*.\n",
        "\n",
        "An integer `n` is a power of three, if there exists an integer `x` such that `n == 3x`.\n",
        "\n",
        "**Example 1:**\n",
        "\n",
        "```\n",
        "Input: n = 27\n",
        "Output: true\n",
        "Explanation: 27 = 33\n",
        "```\n",
        "\n",
        "**Example 2:**\n",
        "\n",
        "```\n",
        "Input: n = 0\n",
        "Output: false\n",
        "Explanation: There is no x where 3x = 0.\n",
        "\n",
        "```\n",
        "\n",
        "**Example 3:**\n",
        "\n",
        "</aside>"
      ],
      "metadata": {
        "id": "qXqufZykAJcf"
      }
    },
    {
      "cell_type": "code",
      "execution_count": 5,
      "metadata": {
        "id": "5RQn0RMjAIkf"
      },
      "outputs": [],
      "source": [
        "def check(n:int())->bool:\n",
        "  while(n>=1):\n",
        "    if n == 1:\n",
        "      return True\n",
        "    n = n/3\n",
        "  return False"
      ]
    },
    {
      "cell_type": "code",
      "source": [
        "check(30)"
      ],
      "metadata": {
        "colab": {
          "base_uri": "https://localhost:8080/"
        },
        "id": "uPpzd8soArzQ",
        "outputId": "016bd669-c91d-4795-e060-fa08b182b805"
      },
      "execution_count": 7,
      "outputs": [
        {
          "output_type": "execute_result",
          "data": {
            "text/plain": [
              "False"
            ]
          },
          "metadata": {},
          "execution_count": 7
        }
      ]
    },
    {
      "cell_type": "markdown",
      "source": [
        "<aside>\n",
        "💡 **Question 2**\n",
        "\n",
        "You have a list `arr` of all integers in the range `[1, n]` sorted in a strictly increasing order. Apply the following algorithm on `arr`:\n",
        "\n",
        "- Starting from left to right, remove the first number and every other number afterward until you reach the end of the list.\n",
        "- Repeat the previous step again, but this time from right to left, remove the rightmost number and every other number from the remaining numbers.\n",
        "- Keep repeating the steps again, alternating left to right and right to left, until a single number remains.\n",
        "\n",
        "Given the integer `n`, return *the last number that remains in* `arr`.\n",
        "\n",
        "**Example 1:**\n",
        "\n",
        "```\n",
        "Input: n = 9\n",
        "Output: 6\n",
        "Explanation:\n",
        "arr = [1, 2,3, 4,5, 6,7, 8,9]\n",
        "arr = [2,4, 6,8]\n",
        "arr = [2, 6]\n",
        "arr = [6]\n",
        "\n",
        "```\n",
        "\n",
        "**Example 2:**\n",
        "\n",
        "</aside>"
      ],
      "metadata": {
        "id": "3qj6vTfEBHU7"
      }
    },
    {
      "cell_type": "code",
      "source": [
        "def lastRemain(n:int())->int():\n",
        "  arr = [i for i in range(1, n+1)]\n",
        "  while(len(arr) > 1):\n",
        "    tempArr = [arr[i] for i in range(0,len(arr)) if i%2 != 0]\n",
        "    arr = tempArr\n",
        "    if len(arr) == 1:\n",
        "      break\n",
        "    tempArr = [arr[i] for i in range(0,len(arr)) if i%2 == 0]\n",
        "    arr = tempArr\n",
        "  return arr[0]\n",
        "  "
      ],
      "metadata": {
        "id": "BCAbUDVTArvw"
      },
      "execution_count": 20,
      "outputs": []
    },
    {
      "cell_type": "code",
      "source": [
        "lastRemain(9)"
      ],
      "metadata": {
        "colab": {
          "base_uri": "https://localhost:8080/"
        },
        "id": "49ONIVU6CiTi",
        "outputId": "2dc1e188-623d-4f6d-9a8a-67795e5b623e"
      },
      "execution_count": 21,
      "outputs": [
        {
          "output_type": "execute_result",
          "data": {
            "text/plain": [
              "6"
            ]
          },
          "metadata": {},
          "execution_count": 21
        }
      ]
    },
    {
      "cell_type": "markdown",
      "source": [
        "<aside>\n",
        "💡 **Question 3**\n",
        "\n",
        "****Given a set represented as a string, write a recursive code to print all subsets of it. The subsets can be printed in any order.\n",
        "\n",
        "**Example 1:**\n",
        "\n",
        "Input :  set = “abc”\n",
        "\n",
        "Output : { “”, “a”, “b”, “c”, “ab”, “ac”, “bc”, “abc”}\n",
        "\n",
        "**Example 2:**\n",
        "\n",
        "Input : set = “abcd”\n",
        "\n",
        "Output : { “”, “a” ,”ab” ,”abc” ,”abcd”, “abd” ,”ac” ,”acd”, “ad” ,”b”, “bc” ,”bcd” ,”bd” ,”c” ,”cd” ,”d” }\n",
        "\n",
        "</aside>"
      ],
      "metadata": {
        "id": "DZGplMZODcqG"
      }
    },
    {
      "cell_type": "code",
      "source": [
        "def powerSet(str1, index, curr,output):\n",
        "    n = len(str1)\n",
        " \n",
        "    # base case\n",
        "    if (index == n):\n",
        "        return\n",
        " \n",
        "    # First print current subset\n",
        "    output.add(curr)\n",
        " \n",
        "    # Try appending remaining characters\n",
        "    # to current subset\n",
        "    for i in range(index + 1, n):\n",
        "        curr += str1[i]\n",
        "        powerSet(str1, i, curr, output)\n",
        " \n",
        "        # Once all subsets beginning with\n",
        "        # initial \"curr\" are printed, remove\n",
        "        # last character to consider a different\n",
        "        # prefix of subsets.\n",
        "        curr = curr.replace(curr[len(curr) - 1], \"\")\n",
        " \n",
        "    return\n",
        " \n",
        " \n",
        "# Driver code\n",
        "\n",
        "str = \"abc\"\n",
        "output = set()\n",
        "powerSet(str, -1, \"\",output)\n",
        "  "
      ],
      "metadata": {
        "id": "FuDIOWqhDgBz"
      },
      "execution_count": 23,
      "outputs": []
    },
    {
      "cell_type": "markdown",
      "source": [
        "<aside>\n",
        "💡 **Question 4**\n",
        "\n",
        "Given a string calculate length of the string using recursion.\n",
        "\n",
        "**Examples:**\n",
        "\n",
        "Input : str = \"abcd\"\n",
        "Output :4\n",
        "\n",
        "Input : str = \"GEEKSFORGEEKS\"\n",
        "Output :13\n",
        "\n",
        "</aside>"
      ],
      "metadata": {
        "id": "xCoTIRn5GDlb"
      }
    },
    {
      "cell_type": "code",
      "source": [
        "def lenStr(str):\n",
        "  if len(str) == 1:\n",
        "    return 1\n",
        "  return lenStr(str[0:len(str)-1]) + 1"
      ],
      "metadata": {
        "id": "fVQZisWGGMyt"
      },
      "execution_count": 26,
      "outputs": []
    },
    {
      "cell_type": "code",
      "source": [
        "lenStr(\"fjlksdjafl;ajsdlfj\")"
      ],
      "metadata": {
        "colab": {
          "base_uri": "https://localhost:8080/"
        },
        "id": "aseAk3yqGt92",
        "outputId": "d4f14d65-cda4-4a64-d424-11e6bce93a12"
      },
      "execution_count": 27,
      "outputs": [
        {
          "output_type": "execute_result",
          "data": {
            "text/plain": [
              "18"
            ]
          },
          "metadata": {},
          "execution_count": 27
        }
      ]
    },
    {
      "cell_type": "markdown",
      "source": [
        "We are given a string S, we need to find count of all contiguous substrings starting and ending with same character.\n",
        "\n",
        "**Examples :**\n",
        "\n",
        "Input  : S = \"abcab\"\n",
        "Output : 7\n",
        "There are 15 substrings of \"abcab\"\n",
        "a, ab, abc, abca, abcab, b, bc, bca\n",
        "bcab, c, ca, cab, a, ab, b\n",
        "Out of the above substrings, there\n",
        "are 7 substrings : a, abca, b, bcab,\n",
        "c, a and b.\n",
        "\n",
        "Input  : S = \"aba\"\n",
        "Output : 4\n",
        "The substrings are a, b, a and aba"
      ],
      "metadata": {
        "id": "2o_G0lwaGDWj"
      }
    },
    {
      "cell_type": "code",
      "source": [
        "str = \"abcab\"\n",
        "\n",
        "output = set()\n",
        "powerSet(str, -1, \"\",output)\n",
        "final = 0\n",
        "for ele in output:\n",
        "  if len(ele) == 0:\n",
        "    continue\n",
        "  if len(ele) == 1:\n",
        "    final+=1\n",
        "  elif ele[0] == ele[-1]:\n",
        "    final+=1\n",
        "final"
      ],
      "metadata": {
        "colab": {
          "base_uri": "https://localhost:8080/"
        },
        "id": "kmjXxmjhHDj5",
        "outputId": "d370a658-5b5f-4f23-d318-7ede4f9aef47"
      },
      "execution_count": 33,
      "outputs": [
        {
          "output_type": "execute_result",
          "data": {
            "text/plain": [
              "11"
            ]
          },
          "metadata": {},
          "execution_count": 33
        }
      ]
    },
    {
      "cell_type": "markdown",
      "source": [
        "<aside>\n",
        "💡 **Question 6**\n",
        "\n",
        "The [tower of Hanoi](https://en.wikipedia.org/wiki/Tower_of_Hanoi) is a famous puzzle where we have three rods and **N** disks. The objective of the puzzle is to move the entire stack to another rod. You are given the number of discs **N**. Initially, these discs are in the rod 1. You need to print all the steps of discs movement so that all the discs reach the 3rd rod. Also, you need to find the total moves.**Note:** The discs are arranged such that the **top disc is numbered 1** and the **bottom-most disc is numbered N**. Also, all the discs have **different sizes** and a bigger disc **cannot** be put on the top of a smaller disc. Refer the provided link to get a better clarity about the puzzle.\n",
        "\n",
        "\n",
        "Input:\n",
        "N = 2\n",
        "Output:\n",
        "move disk 1 from rod 1 to rod 2\n",
        "move disk 2 from rod 1 to rod 3\n",
        "move disk 1 from rod 2 to rod 3\n",
        "3\n",
        "Explanation:For N=2 , steps will be\n",
        "as follows in the example and total\n",
        "3 steps will be taken.\n",
        "</aside>"
      ],
      "metadata": {
        "id": "2SUFr-LgIa9l"
      }
    },
    {
      "cell_type": "code",
      "source": [
        "def TowerOfHanoi(n , source, destination, auxiliary):\n",
        "    if n==1:\n",
        "        print (\"Move disk 1 from Rod\",source,\"to Rod \",destination)\n",
        "        return\n",
        "    TowerOfHanoi(n-1, source, auxiliary, destination)\n",
        "    print (\"Move disk\",n,\"from Rod \",source,\"to Rod \",destination)\n",
        "    TowerOfHanoi(n-1, auxiliary, destination, source)\n",
        "         \n"
      ],
      "metadata": {
        "id": "OpA6cx6TIeEr"
      },
      "execution_count": 1,
      "outputs": []
    },
    {
      "cell_type": "code",
      "source": [
        "n = 2\n",
        "TowerOfHanoi(n,1,2,3)"
      ],
      "metadata": {
        "colab": {
          "base_uri": "https://localhost:8080/"
        },
        "id": "Q_87JDNNmDCy",
        "outputId": "c6a94703-cf56-4a0d-c40d-c769719fdd08"
      },
      "execution_count": 3,
      "outputs": [
        {
          "output_type": "stream",
          "name": "stdout",
          "text": [
            "Move disk 1 from Rod 1 to Rod  3\n",
            "Move disk 2 from Rod  1 to Rod  2\n",
            "Move disk 1 from Rod 3 to Rod  2\n"
          ]
        }
      ]
    },
    {
      "cell_type": "markdown",
      "source": [
        "Given a string str, the task is to print all the permutations of str. A permutation is an arrangement of all or part of a set of objects, with regard to the order of the arrangement. For instance, the words ‘bat’ and ‘tab’ represents two distinct permutation (or arrangements) of a similar three letter word.\n",
        "\n",
        "**Examples:**\n",
        "\n",
        "> Input: str = “cd”\n",
        "> \n",
        "> \n",
        "> **Output:** cd dc\n",
        "> \n",
        "> **Input:** str = “abb”\n",
        "> \n",
        "> **Output:** abb abb bab bba bab bba\n",
        ">"
      ],
      "metadata": {
        "id": "VbaGekRzmKT-"
      }
    },
    {
      "cell_type": "code",
      "source": [
        "def permutations(lis, out =[]):\n",
        "    if len(lis) == 1:\n",
        "        return [lis]\n",
        "\n",
        "    output = []\n",
        "    *front, last = lis\n",
        "    \n",
        "    for perm in permutations(front):\n",
        "        for i in range(len(perm) + 1):\n",
        "            new = perm[:i] + [last] + perm[i:]  \n",
        "            output.append(new)\n",
        "    \n",
        "    for x in output:\n",
        "      if len(lis) == len(''.join(x)):\n",
        "        out.append(''.join(x))\n",
        "    return output#[''.join(x) for x in output]"
      ],
      "metadata": {
        "id": "rO6etLAbmRZS"
      },
      "execution_count": 49,
      "outputs": []
    },
    {
      "cell_type": "code",
      "source": [
        "out = []\n",
        "permutations(\"abb\",out)\n",
        "print(out)"
      ],
      "metadata": {
        "colab": {
          "base_uri": "https://localhost:8080/"
        },
        "id": "dwBcJ5oEmgrH",
        "outputId": "faf98e90-94ad-4db7-c691-9deb912c40b6"
      },
      "execution_count": 51,
      "outputs": [
        {
          "output_type": "stream",
          "name": "stdout",
          "text": [
            "['bba', 'bba', 'bab', 'bab', 'abb', 'abb']\n"
          ]
        }
      ]
    },
    {
      "cell_type": "markdown",
      "source": [
        "<aside>\n",
        "💡 **Question 8**\n",
        "\n",
        "Given a string, count total number of consonants in it. A consonant is an English alphabet character that is not vowel (a, e, i, o and u). Examples of constants are b, c, d, f, and g.\n",
        "\n",
        "**Examples :**\n",
        "\n",
        "Input : abc de\n",
        "Output : 3\n",
        "There are three consonants b, c and d.\n",
        "\n",
        "Input : geeksforgeeks portal\n",
        "Output : 12\n",
        "\n",
        "</aside>"
      ],
      "metadata": {
        "id": "zFyfRsFfsBJ_"
      }
    },
    {
      "cell_type": "code",
      "source": [
        "import string\n",
        "def checkCons(str:str())->int():\n",
        "  vowels = ['a','e','i','o','u']\n",
        "  consonents = [x for x in list(string.ascii_lowercase) if x not in vowels]\n",
        "  if(len(str) == 1):\n",
        "    if str[0]  in consonents:\n",
        "      return 1\n",
        "    else:\n",
        "      return 0\n",
        "  if str[0]  in consonents:\n",
        "    return 1 + checkCons(str[1:])\n",
        "  else:\n",
        "    return 0 + checkCons(str[1:])\n"
      ],
      "metadata": {
        "id": "c2F4OKjBsEoP"
      },
      "execution_count": 68,
      "outputs": []
    },
    {
      "cell_type": "code",
      "source": [
        "checkCons('geeksforgeeks portal')"
      ],
      "metadata": {
        "colab": {
          "base_uri": "https://localhost:8080/"
        },
        "id": "0aUR9aTgtDuD",
        "outputId": "68c4a589-aa9a-4ff9-856b-4934d499a671"
      },
      "execution_count": 69,
      "outputs": [
        {
          "output_type": "execute_result",
          "data": {
            "text/plain": [
              "12"
            ]
          },
          "metadata": {},
          "execution_count": 69
        }
      ]
    }
  ]
}